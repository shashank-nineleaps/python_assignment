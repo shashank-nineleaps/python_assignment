{
 "cells": [
  {
   "cell_type": "markdown",
   "id": "433c28ad-8c5f-41da-9264-892d3752a00b",
   "metadata": {},
   "source": [
    "# Basic library import and File managing"
   ]
  },
  {
   "cell_type": "code",
   "execution_count": 2,
   "id": "19eb21ae-db05-4c6b-8958-cbbebe0754ec",
   "metadata": {},
   "outputs": [],
   "source": [
    "import pandas as pd\n",
    "import sqlite3\n",
    "import numpy as np"
   ]
  },
  {
   "cell_type": "markdown",
   "id": "214d373e-0aee-43e2-8f4f-7417ae9f21a0",
   "metadata": {},
   "source": [
    "## Assigning relative paths of datasets to variables for easy access"
   ]
  },
  {
   "cell_type": "code",
   "execution_count": 43,
   "id": "a551056f-b22e-4759-bd31-0d1321f8c880",
   "metadata": {},
   "outputs": [
    {
     "name": "stdout",
     "output_type": "stream",
     "text": [
      "./Datasets/movies_data/bollywood_movies.sqlite\n",
      "./Datasets/movies_data/tollywood_movies.xlsx\n",
      "./Datasets/movies_data/indian_movies.csv\n"
     ]
    }
   ],
   "source": [
    "bollywood_movies = './Datasets/movies_data/bollywood_movies.sqlite'\n",
    "Indian_movies = './Datasets/movies_data/indian_movies.csv'\n",
    "Tollywood_movies= './Datasets/movies_data/tollywood_movies.xlsx'\n",
    "print(bollywood_movies)\n",
    "print(Tollywood_movies)\n",
    "print(Indian_movies)"
   ]
  },
  {
   "cell_type": "markdown",
   "id": "3143cf93-021d-4ba8-b42c-340fbe3f9dbb",
   "metadata": {},
   "source": [
    "# Dealing with first Dataset 'bollywood_movies.sqlite'"
   ]
  },
  {
   "cell_type": "markdown",
   "id": "5d9facbc-f454-4300-a661-41858c228ea0",
   "metadata": {},
   "source": [
    "## EDA"
   ]
  },
  {
   "cell_type": "code",
   "execution_count": 45,
   "id": "56ebc83c-dced-4852-934e-2bbf92b4c977",
   "metadata": {},
   "outputs": [],
   "source": [
    "conn = sqlite3.connect(bollywood_movies)"
   ]
  },
  {
   "cell_type": "code",
   "execution_count": 46,
   "id": "f0577830-da5a-4a85-aa69-93291382e0e7",
   "metadata": {},
   "outputs": [
    {
     "name": "stdout",
     "output_type": "stream",
     "text": [
      "     name\n",
      "0  Movies\n"
     ]
    }
   ],
   "source": [
    "tables = pd.read_sql_query(\"SELECT name FROM sqlite_master WHERE type='table';\", conn)\n",
    "print(tables)"
   ]
  },
  {
   "cell_type": "code",
   "execution_count": 47,
   "id": "9bb1395c-9bf0-4629-b51a-20eca59de7da",
   "metadata": {},
   "outputs": [],
   "source": [
    "bollywood_df = pd.read_sql_query(\"SELECT * FROM movies;\", conn)\n",
    "conn.close()"
   ]
  },
  {
   "cell_type": "code",
   "execution_count": 48,
   "id": "a92ba35b-fb89-4ec3-af19-091ecc38b699",
   "metadata": {},
   "outputs": [
    {
     "data": {
      "text/html": [
       "<div>\n",
       "<style scoped>\n",
       "    .dataframe tbody tr th:only-of-type {\n",
       "        vertical-align: middle;\n",
       "    }\n",
       "\n",
       "    .dataframe tbody tr th {\n",
       "        vertical-align: top;\n",
       "    }\n",
       "\n",
       "    .dataframe thead th {\n",
       "        text-align: right;\n",
       "    }\n",
       "</style>\n",
       "<table border=\"1\" class=\"dataframe\">\n",
       "  <thead>\n",
       "    <tr style=\"text-align: right;\">\n",
       "      <th></th>\n",
       "      <th>index</th>\n",
       "      <th>MovieID</th>\n",
       "      <th>Title</th>\n",
       "      <th>Director</th>\n",
       "      <th>Genre</th>\n",
       "      <th>ReleaseYear</th>\n",
       "      <th>Budget (Crores)</th>\n",
       "      <th>BoxOffice (Crores)</th>\n",
       "      <th>Rating</th>\n",
       "      <th>Duration (minutes)</th>\n",
       "      <th>LeadActor</th>\n",
       "      <th>LeadActress</th>\n",
       "      <th>Language</th>\n",
       "      <th>ProductionCompany</th>\n",
       "    </tr>\n",
       "  </thead>\n",
       "  <tbody>\n",
       "    <tr>\n",
       "      <th>0</th>\n",
       "      <td>0</td>\n",
       "      <td>MOV001</td>\n",
       "      <td>Lagaan</td>\n",
       "      <td>Ashutosh Gowariker</td>\n",
       "      <td>None</td>\n",
       "      <td>2001</td>\n",
       "      <td>NaN</td>\n",
       "      <td>100.0</td>\n",
       "      <td>8.1</td>\n",
       "      <td>224</td>\n",
       "      <td>Aamir Khan</td>\n",
       "      <td>Gracy Singh</td>\n",
       "      <td>Hindi</td>\n",
       "      <td>Aamir Khan Productions</td>\n",
       "    </tr>\n",
       "    <tr>\n",
       "      <th>1</th>\n",
       "      <td>1</td>\n",
       "      <td>MOV002</td>\n",
       "      <td>Kabhi Khushi Kabhie Gham...</td>\n",
       "      <td>Karan Johar</td>\n",
       "      <td>Family Drama</td>\n",
       "      <td>2001</td>\n",
       "      <td>50.0</td>\n",
       "      <td>100.0</td>\n",
       "      <td>7.9</td>\n",
       "      <td>210</td>\n",
       "      <td>Shah Rukh Khan</td>\n",
       "      <td>Kajol</td>\n",
       "      <td>Hindi</td>\n",
       "      <td>Dharma Productions</td>\n",
       "    </tr>\n",
       "    <tr>\n",
       "      <th>2</th>\n",
       "      <td>2</td>\n",
       "      <td>MOV003</td>\n",
       "      <td>M.S. Dhoni: The Untold Story</td>\n",
       "      <td>Neeraj Pandey</td>\n",
       "      <td>Biographical Sports Drama</td>\n",
       "      <td>2016</td>\n",
       "      <td>NaN</td>\n",
       "      <td>215.0</td>\n",
       "      <td>7.9</td>\n",
       "      <td>184</td>\n",
       "      <td>Sushant Singh Rajput</td>\n",
       "      <td>Kiara Advani</td>\n",
       "      <td>Hindi</td>\n",
       "      <td>Fox Star Studios</td>\n",
       "    </tr>\n",
       "    <tr>\n",
       "      <th>3</th>\n",
       "      <td>3</td>\n",
       "      <td>MOV004</td>\n",
       "      <td>Baahubali 2: The Conclusion</td>\n",
       "      <td>S. S. Rajamouli</td>\n",
       "      <td>Epic Fantasy Action</td>\n",
       "      <td>2017</td>\n",
       "      <td>250.0</td>\n",
       "      <td>1810.0</td>\n",
       "      <td>8.2</td>\n",
       "      <td>171</td>\n",
       "      <td>Prabhas</td>\n",
       "      <td>Anushka Shetty</td>\n",
       "      <td>Telugu</td>\n",
       "      <td>Arka Media Works</td>\n",
       "    </tr>\n",
       "    <tr>\n",
       "      <th>4</th>\n",
       "      <td>4</td>\n",
       "      <td>MOV005</td>\n",
       "      <td>Chennai Express</td>\n",
       "      <td>Rohit Shetty</td>\n",
       "      <td>Action Comedy</td>\n",
       "      <td>2013</td>\n",
       "      <td>NaN</td>\n",
       "      <td>423.0</td>\n",
       "      <td>6.4</td>\n",
       "      <td>141</td>\n",
       "      <td>Shah Rukh Khan</td>\n",
       "      <td>Deepika Padukone</td>\n",
       "      <td>Hindi</td>\n",
       "      <td>Red Chillies Entertainment</td>\n",
       "    </tr>\n",
       "  </tbody>\n",
       "</table>\n",
       "</div>"
      ],
      "text/plain": [
       "   index MovieID                         Title            Director  \\\n",
       "0      0  MOV001                        Lagaan  Ashutosh Gowariker   \n",
       "1      1  MOV002   Kabhi Khushi Kabhie Gham...         Karan Johar   \n",
       "2      2  MOV003  M.S. Dhoni: The Untold Story       Neeraj Pandey   \n",
       "3      3  MOV004   Baahubali 2: The Conclusion     S. S. Rajamouli   \n",
       "4      4  MOV005               Chennai Express        Rohit Shetty   \n",
       "\n",
       "                       Genre  ReleaseYear  Budget (Crores)  \\\n",
       "0                       None         2001              NaN   \n",
       "1               Family Drama         2001             50.0   \n",
       "2  Biographical Sports Drama         2016              NaN   \n",
       "3        Epic Fantasy Action         2017            250.0   \n",
       "4              Action Comedy         2013              NaN   \n",
       "\n",
       "   BoxOffice (Crores)  Rating  Duration (minutes)             LeadActor  \\\n",
       "0               100.0     8.1                 224            Aamir Khan   \n",
       "1               100.0     7.9                 210        Shah Rukh Khan   \n",
       "2               215.0     7.9                 184  Sushant Singh Rajput   \n",
       "3              1810.0     8.2                 171               Prabhas   \n",
       "4               423.0     6.4                 141        Shah Rukh Khan   \n",
       "\n",
       "        LeadActress Language           ProductionCompany  \n",
       "0       Gracy Singh    Hindi      Aamir Khan Productions  \n",
       "1             Kajol    Hindi          Dharma Productions  \n",
       "2      Kiara Advani    Hindi            Fox Star Studios  \n",
       "3    Anushka Shetty   Telugu            Arka Media Works  \n",
       "4  Deepika Padukone    Hindi  Red Chillies Entertainment  "
      ]
     },
     "execution_count": 48,
     "metadata": {},
     "output_type": "execute_result"
    }
   ],
   "source": [
    "bollywood_df.head()"
   ]
  },
  {
   "cell_type": "code",
   "execution_count": 51,
   "id": "41a8cd22-daee-457d-acc3-d0a397f75c01",
   "metadata": {},
   "outputs": [
    {
     "name": "stdout",
     "output_type": "stream",
     "text": [
      "<class 'pandas.core.frame.DataFrame'>\n",
      "RangeIndex: 55 entries, 0 to 54\n",
      "Data columns (total 14 columns):\n",
      " #   Column              Non-Null Count  Dtype  \n",
      "---  ------              --------------  -----  \n",
      " 0   index               55 non-null     int64  \n",
      " 1   MovieID             55 non-null     object \n",
      " 2   Title               55 non-null     object \n",
      " 3   Director            55 non-null     object \n",
      " 4   Genre               54 non-null     object \n",
      " 5   ReleaseYear         55 non-null     int64  \n",
      " 6   Budget (Crores)     43 non-null     float64\n",
      " 7   BoxOffice (Crores)  46 non-null     float64\n",
      " 8   Rating              55 non-null     float64\n",
      " 9   Duration (minutes)  55 non-null     int64  \n",
      " 10  LeadActor           55 non-null     object \n",
      " 11  LeadActress         55 non-null     object \n",
      " 12  Language            55 non-null     object \n",
      " 13  ProductionCompany   55 non-null     object \n",
      "dtypes: float64(3), int64(3), object(8)\n",
      "memory usage: 6.1+ KB\n"
     ]
    }
   ],
   "source": [
    "bollywood_df.info()"
   ]
  },
  {
   "cell_type": "code",
   "execution_count": 66,
   "id": "d19b5a23-3a76-423b-856d-ef95673f1640",
   "metadata": {},
   "outputs": [
    {
     "data": {
      "text/html": [
       "<div>\n",
       "<style scoped>\n",
       "    .dataframe tbody tr th:only-of-type {\n",
       "        vertical-align: middle;\n",
       "    }\n",
       "\n",
       "    .dataframe tbody tr th {\n",
       "        vertical-align: top;\n",
       "    }\n",
       "\n",
       "    .dataframe thead th {\n",
       "        text-align: right;\n",
       "    }\n",
       "</style>\n",
       "<table border=\"1\" class=\"dataframe\">\n",
       "  <thead>\n",
       "    <tr style=\"text-align: right;\">\n",
       "      <th></th>\n",
       "      <th>index</th>\n",
       "      <th>ReleaseYear</th>\n",
       "      <th>Budget (Crores)</th>\n",
       "      <th>BoxOffice (Crores)</th>\n",
       "      <th>Rating</th>\n",
       "      <th>Duration (minutes)</th>\n",
       "    </tr>\n",
       "  </thead>\n",
       "  <tbody>\n",
       "    <tr>\n",
       "      <th>count</th>\n",
       "      <td>55.00000</td>\n",
       "      <td>55.000000</td>\n",
       "      <td>43.000000</td>\n",
       "      <td>46.000000</td>\n",
       "      <td>55.000000</td>\n",
       "      <td>55.000000</td>\n",
       "    </tr>\n",
       "    <tr>\n",
       "      <th>mean</th>\n",
       "      <td>27.00000</td>\n",
       "      <td>2015.200000</td>\n",
       "      <td>91.511628</td>\n",
       "      <td>374.260870</td>\n",
       "      <td>7.260000</td>\n",
       "      <td>158.454545</td>\n",
       "    </tr>\n",
       "    <tr>\n",
       "      <th>std</th>\n",
       "      <td>16.02082</td>\n",
       "      <td>6.198566</td>\n",
       "      <td>109.633670</td>\n",
       "      <td>466.566296</td>\n",
       "      <td>0.883721</td>\n",
       "      <td>21.947596</td>\n",
       "    </tr>\n",
       "    <tr>\n",
       "      <th>min</th>\n",
       "      <td>0.00000</td>\n",
       "      <td>1995.000000</td>\n",
       "      <td>1.000000</td>\n",
       "      <td>5.000000</td>\n",
       "      <td>4.400000</td>\n",
       "      <td>118.000000</td>\n",
       "    </tr>\n",
       "    <tr>\n",
       "      <th>25%</th>\n",
       "      <td>13.50000</td>\n",
       "      <td>2014.500000</td>\n",
       "      <td>20.000000</td>\n",
       "      <td>71.500000</td>\n",
       "      <td>6.800000</td>\n",
       "      <td>145.000000</td>\n",
       "    </tr>\n",
       "    <tr>\n",
       "      <th>50%</th>\n",
       "      <td>27.00000</td>\n",
       "      <td>2018.000000</td>\n",
       "      <td>50.000000</td>\n",
       "      <td>250.000000</td>\n",
       "      <td>7.400000</td>\n",
       "      <td>158.000000</td>\n",
       "    </tr>\n",
       "    <tr>\n",
       "      <th>75%</th>\n",
       "      <td>40.50000</td>\n",
       "      <td>2019.000000</td>\n",
       "      <td>135.000000</td>\n",
       "      <td>457.500000</td>\n",
       "      <td>7.900000</td>\n",
       "      <td>168.000000</td>\n",
       "    </tr>\n",
       "    <tr>\n",
       "      <th>max</th>\n",
       "      <td>54.00000</td>\n",
       "      <td>2020.000000</td>\n",
       "      <td>550.000000</td>\n",
       "      <td>2140.000000</td>\n",
       "      <td>8.400000</td>\n",
       "      <td>224.000000</td>\n",
       "    </tr>\n",
       "  </tbody>\n",
       "</table>\n",
       "</div>"
      ],
      "text/plain": [
       "          index  ReleaseYear  Budget (Crores)  BoxOffice (Crores)     Rating  \\\n",
       "count  55.00000    55.000000        43.000000           46.000000  55.000000   \n",
       "mean   27.00000  2015.200000        91.511628          374.260870   7.260000   \n",
       "std    16.02082     6.198566       109.633670          466.566296   0.883721   \n",
       "min     0.00000  1995.000000         1.000000            5.000000   4.400000   \n",
       "25%    13.50000  2014.500000        20.000000           71.500000   6.800000   \n",
       "50%    27.00000  2018.000000        50.000000          250.000000   7.400000   \n",
       "75%    40.50000  2019.000000       135.000000          457.500000   7.900000   \n",
       "max    54.00000  2020.000000       550.000000         2140.000000   8.400000   \n",
       "\n",
       "       Duration (minutes)  \n",
       "count           55.000000  \n",
       "mean           158.454545  \n",
       "std             21.947596  \n",
       "min            118.000000  \n",
       "25%            145.000000  \n",
       "50%            158.000000  \n",
       "75%            168.000000  \n",
       "max            224.000000  "
      ]
     },
     "execution_count": 66,
     "metadata": {},
     "output_type": "execute_result"
    }
   ],
   "source": [
    "bollywood_df.describe()"
   ]
  },
  {
   "cell_type": "code",
   "execution_count": 69,
   "id": "d1b29c94-670c-4587-bba0-a7a6f57d8c01",
   "metadata": {},
   "outputs": [
    {
     "data": {
      "text/plain": [
       "index                  0\n",
       "MovieID                0\n",
       "Title                  0\n",
       "Director               0\n",
       "Genre                  1\n",
       "ReleaseYear            0\n",
       "Budget (Crores)       12\n",
       "BoxOffice (Crores)     9\n",
       "Rating                 0\n",
       "Duration (minutes)     0\n",
       "LeadActor              0\n",
       "LeadActress            0\n",
       "Language               0\n",
       "ProductionCompany      0\n",
       "dtype: int64"
      ]
     },
     "execution_count": 69,
     "metadata": {},
     "output_type": "execute_result"
    }
   ],
   "source": [
    "bollywood_df.isnull().sum()"
   ]
  },
  {
   "cell_type": "code",
   "execution_count": 71,
   "id": "527a7300-27d4-4e53-b221-0f7e6ffa385c",
   "metadata": {},
   "outputs": [
    {
     "data": {
      "text/plain": [
       "np.int64(0)"
      ]
     },
     "execution_count": 71,
     "metadata": {},
     "output_type": "execute_result"
    }
   ],
   "source": [
    "bollywood_df.duplicated().sum()"
   ]
  },
  {
   "cell_type": "code",
   "execution_count": 68,
   "id": "5afd6446-cb03-4573-9896-6b6b0b08f913",
   "metadata": {},
   "outputs": [
    {
     "data": {
      "text/plain": [
       "array([[<Axes: title={'center': 'index'}>,\n",
       "        <Axes: title={'center': 'ReleaseYear'}>],\n",
       "       [<Axes: title={'center': 'Budget (Crores)'}>,\n",
       "        <Axes: title={'center': 'BoxOffice (Crores)'}>],\n",
       "       [<Axes: title={'center': 'Rating'}>,\n",
       "        <Axes: title={'center': 'Duration (minutes)'}>]], dtype=object)"
      ]
     },
     "execution_count": 68,
     "metadata": {},
     "output_type": "execute_result"
    },
    {
     "data": {
      "image/png": "[encoded data removed]",
      "text/plain": [
       "<Figure size 640x480 with 6 Axes>"
      ]
     },
     "metadata": {},
     "output_type": "display_data"
    }
   ],
   "source": [
    "bollywood_df.hist()"
   ]
  },
  {
   "cell_type": "code",
   "execution_count": 62,
   "id": "51aac036-a85b-44bf-8e9b-c98f9c2eb45c",
   "metadata": {},
   "outputs": [],
   "source": [
    "import matplotlib.pyplot as plt"
   ]
  },
  {
   "cell_type": "code",
   "execution_count": 64,
   "id": "83e265f0-2c53-4081-82bf-7cda345e27e1",
   "metadata": {},
   "outputs": [
    {
     "data": {
      "image/png": "[encoded data removed]",
      "text/plain": [
       "<Figure size 640x480 with 6 Axes>"
      ]
     },
     "metadata": {},
     "output_type": "display_data"
    }
   ],
   "source": [
    "bollywood_df.hist(bins=20)\n",
    "plt.tight_layout()"
   ]
  },
  {
   "cell_type": "markdown",
   "id": "e97d65f9-9bb6-4477-90f8-02677b1f061d",
   "metadata": {},
   "source": [
    "## "
   ]
  },
  {
   "cell_type": "markdown",
   "id": "f3d4f881-2d0d-4689-af7e-a4fbe5320747",
   "metadata": {},
   "source": [
    "# Data Cleaning"
   ]
  },
  {
   "cell_type": "markdown",
   "id": "d27a8e14-b835-4243-8acb-647b480b6aa8",
   "metadata": {},
   "source": [
    "## Fill missing 'Genre' with the mode"
   ]
  },
  {
   "cell_type": "code",
   "execution_count": 78,
   "id": "2c86b3b7-ab63-4042-a8e8-2a217c5d6785",
   "metadata": {},
   "outputs": [],
   "source": [
    "bollywood_df['Genre'].fillna(bollywood_df['Genre'].mode()[0], inplace=True)"
   ]
  },
  {
   "cell_type": "markdown",
   "id": "6cc56911-b33d-42f7-b80f-10376f533bdb",
   "metadata": {},
   "source": [
    "## Fill missing 'Budget (Crores)' with the median value"
   ]
  },
  {
   "cell_type": "code",
   "execution_count": 88,
   "id": "558f83d3-d5f5-4a52-b423-db598bc60010",
   "metadata": {},
   "outputs": [],
   "source": [
    "bollywood_df['Budget (Crores)'] = bollywood_df['Budget (Crores)'].fillna(bollywood_df['Budget (Crores)'].median())"
   ]
  },
  {
   "cell_type": "markdown",
   "id": "758b7d31-3b82-4b41-88bb-e1c213ef34f6",
   "metadata": {},
   "source": [
    "## Fill missing 'BoxOffice (Crores)' with the median value"
   ]
  },
  {
   "cell_type": "code",
   "execution_count": 91,
   "id": "d32cc450-6f5e-4f8f-9576-d82296f734d5",
   "metadata": {},
   "outputs": [],
   "source": [
    "bollywood_df['BoxOffice (Crores)'] = bollywood_df['BoxOffice (Crores)'].fillna(bollywood_df['BoxOffice (Crores)'].median())"
   ]
  },
  {
   "cell_type": "code",
   "execution_count": 95,
   "id": "befa494f-b496-433a-9f0e-03ef84cd460d",
   "metadata": {},
   "outputs": [
    {
     "name": "stdout",
     "output_type": "stream",
     "text": [
      "<class 'pandas.core.frame.DataFrame'>\n",
      "RangeIndex: 55 entries, 0 to 54\n",
      "Data columns (total 14 columns):\n",
      " #   Column              Non-Null Count  Dtype  \n",
      "---  ------              --------------  -----  \n",
      " 0   index               55 non-null     int64  \n",
      " 1   MovieID             55 non-null     object \n",
      " 2   Title               55 non-null     object \n",
      " 3   Director            55 non-null     object \n",
      " 4   Genre               55 non-null     object \n",
      " 5   ReleaseYear         55 non-null     int64  \n",
      " 6   Budget (Crores)     55 non-null     float64\n",
      " 7   BoxOffice (Crores)  55 non-null     float64\n",
      " 8   Rating              55 non-null     float64\n",
      " 9   Duration (minutes)  55 non-null     int64  \n",
      " 10  LeadActor           55 non-null     object \n",
      " 11  LeadActress         55 non-null     object \n",
      " 12  Language            55 non-null     object \n",
      " 13  ProductionCompany   55 non-null     object \n",
      "dtypes: float64(3), int64(3), object(8)\n",
      "memory usage: 6.1+ KB\n"
     ]
    }
   ],
   "source": [
    "bollywood_df.info()"
   ]
  },
  {
   "cell_type": "code",
   "execution_count": 97,
   "id": "7dec9b69-9f19-49cd-9198-65230b5e8ad0",
   "metadata": {},
   "outputs": [
    {
     "data": {
      "text/html": [
       "<div>\n",
       "<style scoped>\n",
       "    .dataframe tbody tr th:only-of-type {\n",
       "        vertical-align: middle;\n",
       "    }\n",
       "\n",
       "    .dataframe tbody tr th {\n",
       "        vertical-align: top;\n",
       "    }\n",
       "\n",
       "    .dataframe thead th {\n",
       "        text-align: right;\n",
       "    }\n",
       "</style>\n",
       "<table border=\"1\" class=\"dataframe\">\n",
       "  <thead>\n",
       "    <tr style=\"text-align: right;\">\n",
       "      <th></th>\n",
       "      <th>index</th>\n",
       "      <th>MovieID</th>\n",
       "      <th>Title</th>\n",
       "      <th>Director</th>\n",
       "      <th>Genre</th>\n",
       "      <th>ReleaseYear</th>\n",
       "      <th>Budget (Crores)</th>\n",
       "      <th>BoxOffice (Crores)</th>\n",
       "      <th>Rating</th>\n",
       "      <th>Duration (minutes)</th>\n",
       "      <th>LeadActor</th>\n",
       "      <th>LeadActress</th>\n",
       "      <th>Language</th>\n",
       "      <th>ProductionCompany</th>\n",
       "    </tr>\n",
       "  </thead>\n",
       "  <tbody>\n",
       "    <tr>\n",
       "      <th>0</th>\n",
       "      <td>0</td>\n",
       "      <td>MOV001</td>\n",
       "      <td>Lagaan</td>\n",
       "      <td>Ashutosh Gowariker</td>\n",
       "      <td>Action Thriller</td>\n",
       "      <td>2001</td>\n",
       "      <td>50.0</td>\n",
       "      <td>100.0</td>\n",
       "      <td>8.1</td>\n",
       "      <td>224</td>\n",
       "      <td>Aamir Khan</td>\n",
       "      <td>Gracy Singh</td>\n",
       "      <td>Hindi</td>\n",
       "      <td>Aamir Khan Productions</td>\n",
       "    </tr>\n",
       "    <tr>\n",
       "      <th>1</th>\n",
       "      <td>1</td>\n",
       "      <td>MOV002</td>\n",
       "      <td>Kabhi Khushi Kabhie Gham...</td>\n",
       "      <td>Karan Johar</td>\n",
       "      <td>Family Drama</td>\n",
       "      <td>2001</td>\n",
       "      <td>50.0</td>\n",
       "      <td>100.0</td>\n",
       "      <td>7.9</td>\n",
       "      <td>210</td>\n",
       "      <td>Shah Rukh Khan</td>\n",
       "      <td>Kajol</td>\n",
       "      <td>Hindi</td>\n",
       "      <td>Dharma Productions</td>\n",
       "    </tr>\n",
       "    <tr>\n",
       "      <th>2</th>\n",
       "      <td>2</td>\n",
       "      <td>MOV003</td>\n",
       "      <td>M.S. Dhoni: The Untold Story</td>\n",
       "      <td>Neeraj Pandey</td>\n",
       "      <td>Biographical Sports Drama</td>\n",
       "      <td>2016</td>\n",
       "      <td>50.0</td>\n",
       "      <td>215.0</td>\n",
       "      <td>7.9</td>\n",
       "      <td>184</td>\n",
       "      <td>Sushant Singh Rajput</td>\n",
       "      <td>Kiara Advani</td>\n",
       "      <td>Hindi</td>\n",
       "      <td>Fox Star Studios</td>\n",
       "    </tr>\n",
       "    <tr>\n",
       "      <th>3</th>\n",
       "      <td>3</td>\n",
       "      <td>MOV004</td>\n",
       "      <td>Baahubali 2: The Conclusion</td>\n",
       "      <td>S. S. Rajamouli</td>\n",
       "      <td>Epic Fantasy Action</td>\n",
       "      <td>2017</td>\n",
       "      <td>250.0</td>\n",
       "      <td>1810.0</td>\n",
       "      <td>8.2</td>\n",
       "      <td>171</td>\n",
       "      <td>Prabhas</td>\n",
       "      <td>Anushka Shetty</td>\n",
       "      <td>Telugu</td>\n",
       "      <td>Arka Media Works</td>\n",
       "    </tr>\n",
       "    <tr>\n",
       "      <th>4</th>\n",
       "      <td>4</td>\n",
       "      <td>MOV005</td>\n",
       "      <td>Chennai Express</td>\n",
       "      <td>Rohit Shetty</td>\n",
       "      <td>Action Comedy</td>\n",
       "      <td>2013</td>\n",
       "      <td>50.0</td>\n",
       "      <td>423.0</td>\n",
       "      <td>6.4</td>\n",
       "      <td>141</td>\n",
       "      <td>Shah Rukh Khan</td>\n",
       "      <td>Deepika Padukone</td>\n",
       "      <td>Hindi</td>\n",
       "      <td>Red Chillies Entertainment</td>\n",
       "    </tr>\n",
       "  </tbody>\n",
       "</table>\n",
       "</div>"
      ],
      "text/plain": [
       "   index MovieID                         Title            Director  \\\n",
       "0      0  MOV001                        Lagaan  Ashutosh Gowariker   \n",
       "1      1  MOV002   Kabhi Khushi Kabhie Gham...         Karan Johar   \n",
       "2      2  MOV003  M.S. Dhoni: The Untold Story       Neeraj Pandey   \n",
       "3      3  MOV004   Baahubali 2: The Conclusion     S. S. Rajamouli   \n",
       "4      4  MOV005               Chennai Express        Rohit Shetty   \n",
       "\n",
       "                       Genre  ReleaseYear  Budget (Crores)  \\\n",
       "0            Action Thriller         2001             50.0   \n",
       "1               Family Drama         2001             50.0   \n",
       "2  Biographical Sports Drama         2016             50.0   \n",
       "3        Epic Fantasy Action         2017            250.0   \n",
       "4              Action Comedy         2013             50.0   \n",
       "\n",
       "   BoxOffice (Crores)  Rating  Duration (minutes)             LeadActor  \\\n",
       "0               100.0     8.1                 224            Aamir Khan   \n",
       "1               100.0     7.9                 210        Shah Rukh Khan   \n",
       "2               215.0     7.9                 184  Sushant Singh Rajput   \n",
       "3              1810.0     8.2                 171               Prabhas   \n",
       "4               423.0     6.4                 141        Shah Rukh Khan   \n",
       "\n",
       "        LeadActress Language           ProductionCompany  \n",
       "0       Gracy Singh    Hindi      Aamir Khan Productions  \n",
       "1             Kajol    Hindi          Dharma Productions  \n",
       "2      Kiara Advani    Hindi            Fox Star Studios  \n",
       "3    Anushka Shetty   Telugu            Arka Media Works  \n",
       "4  Deepika Padukone    Hindi  Red Chillies Entertainment  "
      ]
     },
     "execution_count": 97,
     "metadata": {},
     "output_type": "execute_result"
    }
   ],
   "source": [
    "bollywood_df.head()"
   ]
  },
  {
   "cell_type": "code",
   "execution_count": 155,
   "id": "17d78109-452b-4c77-9b96-aa10c8fdfe67",
   "metadata": {},
   "outputs": [],
   "source": [
    "bollywood_df.to_csv('./Datasets/movies_data_cleaned/cleaned_bollywood_movies.csv', index=False)"
   ]
  },
  {
   "cell_type": "markdown",
   "id": "6e423500-978c-48df-965c-0a8a457ffbbd",
   "metadata": {},
   "source": [
    "# Dealing with Second Dataset 'indian_movies.csv'"
   ]
  },
  {
   "cell_type": "markdown",
   "id": "a1c61b26-8967-420d-a201-2e9020a49c46",
   "metadata": {},
   "source": [
    "## EDA"
   ]
  },
  {
   "cell_type": "code",
   "execution_count": 101,
   "id": "be98c195-3483-4077-95c9-7c330240cd2f",
   "metadata": {},
   "outputs": [],
   "source": [
    "indian_movies_df = pd.read_csv(Indian_movies)"
   ]
  },
  {
   "cell_type": "code",
   "execution_count": 102,
   "id": "1196fbe5-ef03-4b2c-8b5a-2c2233f3aa69",
   "metadata": {},
   "outputs": [
    {
     "name": "stdout",
     "output_type": "stream",
     "text": [
      "<class 'pandas.core.frame.DataFrame'>\n",
      "RangeIndex: 18 entries, 0 to 17\n",
      "Data columns (total 14 columns):\n",
      " #   Column              Non-Null Count  Dtype  \n",
      "---  ------              --------------  -----  \n",
      " 0   Unnamed: 0          18 non-null     int64  \n",
      " 1   MovieID             18 non-null     object \n",
      " 2   Title               18 non-null     object \n",
      " 3   Director            18 non-null     object \n",
      " 4   Genre               18 non-null     object \n",
      " 5   ReleaseYear         17 non-null     float64\n",
      " 6   Budget (Crores)     10 non-null     float64\n",
      " 7   BoxOffice (Crores)  10 non-null     float64\n",
      " 8   Rating              17 non-null     float64\n",
      " 9   Duration (minutes)  17 non-null     float64\n",
      " 10  LeadActor           18 non-null     object \n",
      " 11  LeadActress         18 non-null     object \n",
      " 12  Language            18 non-null     object \n",
      " 13  ProductionCompany   18 non-null     object \n",
      "dtypes: float64(5), int64(1), object(8)\n",
      "memory usage: 2.1+ KB\n"
     ]
    }
   ],
   "source": [
    "indian_movies_df.info()"
   ]
  },
  {
   "cell_type": "code",
   "execution_count": 105,
   "id": "686c6447-91d3-4683-95f7-a933a68c44f9",
   "metadata": {},
   "outputs": [
    {
     "data": {
      "text/html": [
       "<div>\n",
       "<style scoped>\n",
       "    .dataframe tbody tr th:only-of-type {\n",
       "        vertical-align: middle;\n",
       "    }\n",
       "\n",
       "    .dataframe tbody tr th {\n",
       "        vertical-align: top;\n",
       "    }\n",
       "\n",
       "    .dataframe thead th {\n",
       "        text-align: right;\n",
       "    }\n",
       "</style>\n",
       "<table border=\"1\" class=\"dataframe\">\n",
       "  <thead>\n",
       "    <tr style=\"text-align: right;\">\n",
       "      <th></th>\n",
       "      <th>Unnamed: 0</th>\n",
       "      <th>MovieID</th>\n",
       "      <th>Title</th>\n",
       "      <th>Director</th>\n",
       "      <th>Genre</th>\n",
       "      <th>ReleaseYear</th>\n",
       "      <th>Budget (Crores)</th>\n",
       "      <th>BoxOffice (Crores)</th>\n",
       "      <th>Rating</th>\n",
       "      <th>Duration (minutes)</th>\n",
       "      <th>LeadActor</th>\n",
       "      <th>LeadActress</th>\n",
       "      <th>Language</th>\n",
       "      <th>ProductionCompany</th>\n",
       "    </tr>\n",
       "  </thead>\n",
       "  <tbody>\n",
       "    <tr>\n",
       "      <th>0</th>\n",
       "      <td>7</td>\n",
       "      <td>MOV008</td>\n",
       "      <td>Sarkar (Tamil)</td>\n",
       "      <td>A. R. Murugadoss</td>\n",
       "      <td>Action Thriller</td>\n",
       "      <td>2005.0</td>\n",
       "      <td>NaN</td>\n",
       "      <td>NaN</td>\n",
       "      <td>7.5</td>\n",
       "      <td>173.0</td>\n",
       "      <td>Vijay</td>\n",
       "      <td>Keerthy Suresh</td>\n",
       "      <td>Tamil</td>\n",
       "      <td>Kalaignar TV</td>\n",
       "    </tr>\n",
       "    <tr>\n",
       "      <th>1</th>\n",
       "      <td>9</td>\n",
       "      <td>MOV010</td>\n",
       "      <td>2.0 (Tamil)</td>\n",
       "      <td>S. Shankar</td>\n",
       "      <td>Science Fiction Action</td>\n",
       "      <td>2018.0</td>\n",
       "      <td>550.0</td>\n",
       "      <td>800.0</td>\n",
       "      <td>6.9</td>\n",
       "      <td>147.0</td>\n",
       "      <td>Rajinikanth</td>\n",
       "      <td>Amy Jackson</td>\n",
       "      <td>Tamil</td>\n",
       "      <td>Lyca Productions</td>\n",
       "    </tr>\n",
       "    <tr>\n",
       "      <th>2</th>\n",
       "      <td>21</td>\n",
       "      <td>MOV022</td>\n",
       "      <td>K.G.F: Chapter 1</td>\n",
       "      <td>Prashanth Neel</td>\n",
       "      <td>Action Drama</td>\n",
       "      <td>2018.0</td>\n",
       "      <td>50.0</td>\n",
       "      <td>250.0</td>\n",
       "      <td>7.9</td>\n",
       "      <td>156.0</td>\n",
       "      <td>Yash</td>\n",
       "      <td>Srinidhi Shetty</td>\n",
       "      <td>Kannada</td>\n",
       "      <td>Hombale Films</td>\n",
       "    </tr>\n",
       "    <tr>\n",
       "      <th>3</th>\n",
       "      <td>23</td>\n",
       "      <td>MOV024</td>\n",
       "      <td>Avengers: Endgame (Dubbed)</td>\n",
       "      <td>Anthony Russo, Joseph Russo</td>\n",
       "      <td>Superhero</td>\n",
       "      <td>2019.0</td>\n",
       "      <td>NaN</td>\n",
       "      <td>NaN</td>\n",
       "      <td>8.4</td>\n",
       "      <td>181.0</td>\n",
       "      <td>Robert Downey Jr.</td>\n",
       "      <td>Scarlett Johansson</td>\n",
       "      <td>English (Dubbed in Telugu, Kannada, Hindi)</td>\n",
       "      <td>Marvel Studios</td>\n",
       "    </tr>\n",
       "    <tr>\n",
       "      <th>4</th>\n",
       "      <td>25</td>\n",
       "      <td>MOV026</td>\n",
       "      <td>Pailwaan</td>\n",
       "      <td>S. Krishna</td>\n",
       "      <td>Sports Action</td>\n",
       "      <td>2019.0</td>\n",
       "      <td>30.0</td>\n",
       "      <td>55.0</td>\n",
       "      <td>6.8</td>\n",
       "      <td>NaN</td>\n",
       "      <td>Sudeep</td>\n",
       "      <td>Aakanksha Singh</td>\n",
       "      <td>Kannada</td>\n",
       "      <td>RRR Motion Pictures</td>\n",
       "    </tr>\n",
       "  </tbody>\n",
       "</table>\n",
       "</div>"
      ],
      "text/plain": [
       "   Unnamed: 0 MovieID                       Title  \\\n",
       "0           7  MOV008              Sarkar (Tamil)   \n",
       "1           9  MOV010                 2.0 (Tamil)   \n",
       "2          21  MOV022            K.G.F: Chapter 1   \n",
       "3          23  MOV024  Avengers: Endgame (Dubbed)   \n",
       "4          25  MOV026                    Pailwaan   \n",
       "\n",
       "                      Director                   Genre  ReleaseYear  \\\n",
       "0             A. R. Murugadoss         Action Thriller       2005.0   \n",
       "1                   S. Shankar  Science Fiction Action       2018.0   \n",
       "2               Prashanth Neel            Action Drama       2018.0   \n",
       "3  Anthony Russo, Joseph Russo               Superhero       2019.0   \n",
       "4                   S. Krishna           Sports Action       2019.0   \n",
       "\n",
       "   Budget (Crores)  BoxOffice (Crores)  Rating  Duration (minutes)  \\\n",
       "0              NaN                 NaN     7.5               173.0   \n",
       "1            550.0               800.0     6.9               147.0   \n",
       "2             50.0               250.0     7.9               156.0   \n",
       "3              NaN                 NaN     8.4               181.0   \n",
       "4             30.0                55.0     6.8                 NaN   \n",
       "\n",
       "           LeadActor         LeadActress  \\\n",
       "0              Vijay      Keerthy Suresh   \n",
       "1        Rajinikanth         Amy Jackson   \n",
       "2               Yash     Srinidhi Shetty   \n",
       "3  Robert Downey Jr.  Scarlett Johansson   \n",
       "4             Sudeep     Aakanksha Singh   \n",
       "\n",
       "                                     Language    ProductionCompany  \n",
       "0                                       Tamil         Kalaignar TV  \n",
       "1                                       Tamil     Lyca Productions  \n",
       "2                                     Kannada        Hombale Films  \n",
       "3  English (Dubbed in Telugu, Kannada, Hindi)       Marvel Studios  \n",
       "4                                     Kannada  RRR Motion Pictures  "
      ]
     },
     "execution_count": 105,
     "metadata": {},
     "output_type": "execute_result"
    }
   ],
   "source": [
    "indian_movies_df.head()"
   ]
  },
  {
   "cell_type": "markdown",
   "id": "7fe245aa-92d3-45de-96ec-4201496ad279",
   "metadata": {},
   "source": [
    "## Data Cleaning"
   ]
  },
  {
   "cell_type": "markdown",
   "id": "8e587421-c1c9-41da-ae0a-672635c0f70d",
   "metadata": {},
   "source": [
    "### 1. Drop the 'Unnamed: 0' column"
   ]
  },
  {
   "cell_type": "code",
   "execution_count": 106,
   "id": "094d6080-5305-402b-b81a-fe167cf84f99",
   "metadata": {},
   "outputs": [],
   "source": [
    "indian_movies_df.drop(columns=['Unnamed: 0'], inplace=True)"
   ]
  },
  {
   "cell_type": "markdown",
   "id": "72e950e9-5ca6-46ed-8b2d-9de9acd1ba2d",
   "metadata": {},
   "source": [
    "### Fill missing 'ReleaseYear' with the median (since it's a year, it makes sense to use median)"
   ]
  },
  {
   "cell_type": "code",
   "execution_count": 109,
   "id": "a426ce48-229f-4299-b13e-62d62bda1544",
   "metadata": {},
   "outputs": [],
   "source": [
    "indian_movies_df['ReleaseYear'] = indian_movies_df['ReleaseYear'].fillna(indian_movies_df['ReleaseYear'].median())"
   ]
  },
  {
   "cell_type": "markdown",
   "id": "fdfc452b-2311-48e9-9a71-2d4cef506372",
   "metadata": {},
   "source": [
    "### Fill missing 'Rating' with the median value"
   ]
  },
  {
   "cell_type": "code",
   "execution_count": 111,
   "id": "488b60d0-de2e-4c69-a4e2-88a116602e47",
   "metadata": {},
   "outputs": [],
   "source": [
    "indian_movies_df['Rating'] = indian_movies_df['Rating'].fillna(indian_movies_df['Rating'].median())"
   ]
  },
  {
   "cell_type": "markdown",
   "id": "8420bfee-bbbf-45bf-9825-917da0e7b7e8",
   "metadata": {},
   "source": [
    "### Fill missing 'Duration (minutes)' with the median value"
   ]
  },
  {
   "cell_type": "code",
   "execution_count": 113,
   "id": "0b97d5f7-1b5d-466b-91b4-9726ab914e3e",
   "metadata": {},
   "outputs": [],
   "source": [
    "indian_movies_df['Duration (minutes)'] = indian_movies_df['Duration (minutes)'].fillna(indian_movies_df['Duration (minutes)'].median())"
   ]
  },
  {
   "cell_type": "markdown",
   "id": "ba06c8b4-3a6b-4084-8ade-7e07ea053757",
   "metadata": {},
   "source": [
    "### Fill missing 'Budget (Crores)' with the median value\n"
   ]
  },
  {
   "cell_type": "code",
   "execution_count": 116,
   "id": "f43f842f-dd4c-439f-9fa4-f5bd43548600",
   "metadata": {},
   "outputs": [],
   "source": [
    "indian_movies_df['Budget (Crores)'] = indian_movies_df['Budget (Crores)'].fillna(indian_movies_df['Budget (Crores)'].median())"
   ]
  },
  {
   "cell_type": "markdown",
   "id": "25e51dd8-5795-46f3-be20-d6891039cb49",
   "metadata": {},
   "source": [
    "### Fill missing 'BoxOffice (Crores)' with the median value\n"
   ]
  },
  {
   "cell_type": "code",
   "execution_count": 118,
   "id": "5fc41533-2940-4a74-8d38-00b1c09665f1",
   "metadata": {},
   "outputs": [],
   "source": [
    "indian_movies_df['BoxOffice (Crores)'] = indian_movies_df['BoxOffice (Crores)'].fillna(indian_movies_df['BoxOffice (Crores)'].median())"
   ]
  },
  {
   "cell_type": "markdown",
   "id": "d5bda01a-f2d4-4ec4-89d1-456076d25651",
   "metadata": {},
   "source": [
    "### 3. Remove duplicates (if any)\n"
   ]
  },
  {
   "cell_type": "code",
   "execution_count": 120,
   "id": "44fba017-7f97-47be-8e54-ad0aec988496",
   "metadata": {},
   "outputs": [],
   "source": [
    "indian_movies_df.drop_duplicates(inplace=True)"
   ]
  },
  {
   "cell_type": "code",
   "execution_count": 123,
   "id": "c6bbd170-475d-424f-af7a-e20a1674e558",
   "metadata": {},
   "outputs": [
    {
     "name": "stdout",
     "output_type": "stream",
     "text": [
      "<class 'pandas.core.frame.DataFrame'>\n",
      "RangeIndex: 18 entries, 0 to 17\n",
      "Data columns (total 13 columns):\n",
      " #   Column              Non-Null Count  Dtype  \n",
      "---  ------              --------------  -----  \n",
      " 0   MovieID             18 non-null     object \n",
      " 1   Title               18 non-null     object \n",
      " 2   Director            18 non-null     object \n",
      " 3   Genre               18 non-null     object \n",
      " 4   ReleaseYear         18 non-null     float64\n",
      " 5   Budget (Crores)     18 non-null     float64\n",
      " 6   BoxOffice (Crores)  18 non-null     float64\n",
      " 7   Rating              18 non-null     float64\n",
      " 8   Duration (minutes)  18 non-null     float64\n",
      " 9   LeadActor           18 non-null     object \n",
      " 10  LeadActress         18 non-null     object \n",
      " 11  Language            18 non-null     object \n",
      " 12  ProductionCompany   18 non-null     object \n",
      "dtypes: float64(5), object(8)\n",
      "memory usage: 2.0+ KB\n"
     ]
    }
   ],
   "source": [
    "indian_movies_df.info()"
   ]
  },
  {
   "cell_type": "markdown",
   "id": "27844f72-a0f0-47e2-b636-435e58a15dd6",
   "metadata": {},
   "source": [
    "### 6. Reset index after cleaning"
   ]
  },
  {
   "cell_type": "code",
   "execution_count": 124,
   "id": "6bf2993d-7033-4bff-ab78-291ad4d87dc4",
   "metadata": {},
   "outputs": [],
   "source": [
    "indian_movies_df.reset_index(drop=True, inplace=True)"
   ]
  },
  {
   "cell_type": "code",
   "execution_count": 127,
   "id": "f77ac2db-7a0d-4990-bf16-500ec7240635",
   "metadata": {},
   "outputs": [
    {
     "data": {
      "text/html": [
       "<div>\n",
       "<style scoped>\n",
       "    .dataframe tbody tr th:only-of-type {\n",
       "        vertical-align: middle;\n",
       "    }\n",
       "\n",
       "    .dataframe tbody tr th {\n",
       "        vertical-align: top;\n",
       "    }\n",
       "\n",
       "    .dataframe thead th {\n",
       "        text-align: right;\n",
       "    }\n",
       "</style>\n",
       "<table border=\"1\" class=\"dataframe\">\n",
       "  <thead>\n",
       "    <tr style=\"text-align: right;\">\n",
       "      <th></th>\n",
       "      <th>MovieID</th>\n",
       "      <th>Title</th>\n",
       "      <th>Director</th>\n",
       "      <th>Genre</th>\n",
       "      <th>ReleaseYear</th>\n",
       "      <th>Budget (Crores)</th>\n",
       "      <th>BoxOffice (Crores)</th>\n",
       "      <th>Rating</th>\n",
       "      <th>Duration (minutes)</th>\n",
       "      <th>LeadActor</th>\n",
       "      <th>LeadActress</th>\n",
       "      <th>Language</th>\n",
       "      <th>ProductionCompany</th>\n",
       "    </tr>\n",
       "  </thead>\n",
       "  <tbody>\n",
       "    <tr>\n",
       "      <th>0</th>\n",
       "      <td>MOV008</td>\n",
       "      <td>Sarkar (Tamil)</td>\n",
       "      <td>A. R. Murugadoss</td>\n",
       "      <td>Action Thriller</td>\n",
       "      <td>2005.0</td>\n",
       "      <td>25.0</td>\n",
       "      <td>47.5</td>\n",
       "      <td>7.5</td>\n",
       "      <td>173.0</td>\n",
       "      <td>Vijay</td>\n",
       "      <td>Keerthy Suresh</td>\n",
       "      <td>Tamil</td>\n",
       "      <td>Kalaignar TV</td>\n",
       "    </tr>\n",
       "    <tr>\n",
       "      <th>1</th>\n",
       "      <td>MOV010</td>\n",
       "      <td>2.0 (Tamil)</td>\n",
       "      <td>S. Shankar</td>\n",
       "      <td>Science Fiction Action</td>\n",
       "      <td>2018.0</td>\n",
       "      <td>550.0</td>\n",
       "      <td>800.0</td>\n",
       "      <td>6.9</td>\n",
       "      <td>147.0</td>\n",
       "      <td>Rajinikanth</td>\n",
       "      <td>Amy Jackson</td>\n",
       "      <td>Tamil</td>\n",
       "      <td>Lyca Productions</td>\n",
       "    </tr>\n",
       "    <tr>\n",
       "      <th>2</th>\n",
       "      <td>MOV022</td>\n",
       "      <td>K.G.F: Chapter 1</td>\n",
       "      <td>Prashanth Neel</td>\n",
       "      <td>Action Drama</td>\n",
       "      <td>2018.0</td>\n",
       "      <td>50.0</td>\n",
       "      <td>250.0</td>\n",
       "      <td>7.9</td>\n",
       "      <td>156.0</td>\n",
       "      <td>Yash</td>\n",
       "      <td>Srinidhi Shetty</td>\n",
       "      <td>Kannada</td>\n",
       "      <td>Hombale Films</td>\n",
       "    </tr>\n",
       "    <tr>\n",
       "      <th>3</th>\n",
       "      <td>MOV024</td>\n",
       "      <td>Avengers: Endgame (Dubbed)</td>\n",
       "      <td>Anthony Russo, Joseph Russo</td>\n",
       "      <td>Superhero</td>\n",
       "      <td>2019.0</td>\n",
       "      <td>25.0</td>\n",
       "      <td>47.5</td>\n",
       "      <td>8.4</td>\n",
       "      <td>181.0</td>\n",
       "      <td>Robert Downey Jr.</td>\n",
       "      <td>Scarlett Johansson</td>\n",
       "      <td>English (Dubbed in Telugu, Kannada, Hindi)</td>\n",
       "      <td>Marvel Studios</td>\n",
       "    </tr>\n",
       "    <tr>\n",
       "      <th>4</th>\n",
       "      <td>MOV026</td>\n",
       "      <td>Pailwaan</td>\n",
       "      <td>S. Krishna</td>\n",
       "      <td>Sports Action</td>\n",
       "      <td>2019.0</td>\n",
       "      <td>30.0</td>\n",
       "      <td>55.0</td>\n",
       "      <td>6.8</td>\n",
       "      <td>156.0</td>\n",
       "      <td>Sudeep</td>\n",
       "      <td>Aakanksha Singh</td>\n",
       "      <td>Kannada</td>\n",
       "      <td>RRR Motion Pictures</td>\n",
       "    </tr>\n",
       "  </tbody>\n",
       "</table>\n",
       "</div>"
      ],
      "text/plain": [
       "  MovieID                       Title                     Director  \\\n",
       "0  MOV008              Sarkar (Tamil)             A. R. Murugadoss   \n",
       "1  MOV010                 2.0 (Tamil)                   S. Shankar   \n",
       "2  MOV022            K.G.F: Chapter 1               Prashanth Neel   \n",
       "3  MOV024  Avengers: Endgame (Dubbed)  Anthony Russo, Joseph Russo   \n",
       "4  MOV026                    Pailwaan                   S. Krishna   \n",
       "\n",
       "                    Genre  ReleaseYear  Budget (Crores)  BoxOffice (Crores)  \\\n",
       "0         Action Thriller       2005.0             25.0                47.5   \n",
       "1  Science Fiction Action       2018.0            550.0               800.0   \n",
       "2            Action Drama       2018.0             50.0               250.0   \n",
       "3               Superhero       2019.0             25.0                47.5   \n",
       "4           Sports Action       2019.0             30.0                55.0   \n",
       "\n",
       "   Rating  Duration (minutes)          LeadActor         LeadActress  \\\n",
       "0     7.5               173.0              Vijay      Keerthy Suresh   \n",
       "1     6.9               147.0        Rajinikanth         Amy Jackson   \n",
       "2     7.9               156.0               Yash     Srinidhi Shetty   \n",
       "3     8.4               181.0  Robert Downey Jr.  Scarlett Johansson   \n",
       "4     6.8               156.0             Sudeep     Aakanksha Singh   \n",
       "\n",
       "                                     Language    ProductionCompany  \n",
       "0                                       Tamil         Kalaignar TV  \n",
       "1                                       Tamil     Lyca Productions  \n",
       "2                                     Kannada        Hombale Films  \n",
       "3  English (Dubbed in Telugu, Kannada, Hindi)       Marvel Studios  \n",
       "4                                     Kannada  RRR Motion Pictures  "
      ]
     },
     "execution_count": 127,
     "metadata": {},
     "output_type": "execute_result"
    }
   ],
   "source": [
    "indian_movies_df.head()"
   ]
  },
  {
   "cell_type": "code",
   "execution_count": 150,
   "id": "2dd77f22-269a-40f2-a61a-fb775a251ca7",
   "metadata": {},
   "outputs": [],
   "source": [
    "indian_movies_df.to_csv('./Datasets/movies_data_cleaned/cleaned_indian_movies.csv', index=False)"
   ]
  },
  {
   "cell_type": "code",
   "execution_count": 131,
   "id": "f0e4e586-7427-465a-afb1-400483ecf566",
   "metadata": {},
   "outputs": [
    {
     "name": "stdout",
     "output_type": "stream",
     "text": [
      "Collecting openpyxl\n",
      "  Downloading openpyxl-3.1.5-py2.py3-none-any.whl.metadata (2.5 kB)\n",
      "Collecting et-xmlfile (from openpyxl)\n",
      "  Downloading et_xmlfile-2.0.0-py3-none-any.whl.metadata (2.7 kB)\n",
      "Downloading openpyxl-3.1.5-py2.py3-none-any.whl (250 kB)\n",
      "\u001b[2K   \u001b[38;2;114;156;31m━━━━━━━━━━━━━━━━━━━━━━━━━━━━━━━━━━━━━━━━\u001b[0m \u001b[32m250.9/250.9 kB\u001b[0m \u001b[31m4.0 MB/s\u001b[0m eta \u001b[36m0:00:00\u001b[0m MB/s\u001b[0m eta \u001b[36m0:00:01\u001b[0m\n",
      "\u001b[?25hDownloading et_xmlfile-2.0.0-py3-none-any.whl (18 kB)\n",
      "Installing collected packages: et-xmlfile, openpyxl\n",
      "Successfully installed et-xmlfile-2.0.0 openpyxl-3.1.5\n"
     ]
    }
   ],
   "source": [
    "!pip install openpyxl"
   ]
  },
  {
   "cell_type": "code",
   "execution_count": 132,
   "id": "f0c0ed3c-9b3f-4875-b149-71935bef7c78",
   "metadata": {},
   "outputs": [],
   "source": [
    "tollywood_df = pd.read_excel(Tollywood_movies)"
   ]
  },
  {
   "cell_type": "code",
   "execution_count": 133,
   "id": "db473aba-c802-4720-b8ff-e28a520de020",
   "metadata": {},
   "outputs": [
    {
     "name": "stdout",
     "output_type": "stream",
     "text": [
      "<class 'pandas.core.frame.DataFrame'>\n",
      "RangeIndex: 10 entries, 0 to 9\n",
      "Data columns (total 14 columns):\n",
      " #   Column              Non-Null Count  Dtype  \n",
      "---  ------              --------------  -----  \n",
      " 0   Unnamed: 0          10 non-null     int64  \n",
      " 1   MovieID             10 non-null     object \n",
      " 2   Title               10 non-null     object \n",
      " 3   Director            10 non-null     object \n",
      " 4   Genre               10 non-null     object \n",
      " 5   ReleaseYear         8 non-null      float64\n",
      " 6   Budget (Crores)     10 non-null     int64  \n",
      " 7   BoxOffice (Crores)  10 non-null     int64  \n",
      " 8   Rating              9 non-null      float64\n",
      " 9   Duration (minutes)  9 non-null      float64\n",
      " 10  LeadActor           10 non-null     object \n",
      " 11  LeadActress         10 non-null     object \n",
      " 12  Language            7 non-null      object \n",
      " 13  ProductionCompany   9 non-null      object \n",
      "dtypes: float64(3), int64(3), object(8)\n",
      "memory usage: 1.2+ KB\n"
     ]
    }
   ],
   "source": [
    "tollywood_df.info()"
   ]
  },
  {
   "cell_type": "code",
   "execution_count": 134,
   "id": "e1f60539-4bff-4a6a-afbb-470c81efb06e",
   "metadata": {},
   "outputs": [],
   "source": [
    "tollywood_df.drop(columns=['Unnamed: 0'], inplace=True)"
   ]
  },
  {
   "cell_type": "code",
   "execution_count": 135,
   "id": "d4dbb8a8-5c59-4209-8255-ba6b96c6b8b3",
   "metadata": {},
   "outputs": [],
   "source": [
    "tollywood_df['ReleaseYear'] = tollywood_df['ReleaseYear'].fillna(tollywood_df['ReleaseYear'].median())\n",
    "tollywood_df['Rating'] = tollywood_df['Rating'].fillna(tollywood_df['Rating'].median())\n",
    "tollywood_df['Duration (minutes)'] = tollywood_df['Duration (minutes)'].fillna(tollywood_df['Duration (minutes)'].median())"
   ]
  },
  {
   "cell_type": "code",
   "execution_count": 137,
   "id": "61bb2b7c-15aa-41ac-8ebb-50d81e78e0a8",
   "metadata": {},
   "outputs": [],
   "source": [
    "tollywood_df['Language'] = tollywood_df['Language'].fillna('Telugu')"
   ]
  },
  {
   "cell_type": "code",
   "execution_count": 143,
   "id": "5aa61a3d-aca1-4b74-8107-7d0037af8c9b",
   "metadata": {},
   "outputs": [],
   "source": [
    "tollywood_df['ProductionCompany'] = tollywood_df['ProductionCompany'].fillna('Unknown')"
   ]
  },
  {
   "cell_type": "code",
   "execution_count": 145,
   "id": "a96d5c51-fb35-4996-bb23-c11d85a3f82b",
   "metadata": {},
   "outputs": [],
   "source": [
    "tollywood_df.reset_index(drop=True, inplace=True)"
   ]
  },
  {
   "cell_type": "code",
   "execution_count": 149,
   "id": "6fce82d0-11f7-42a7-ac43-208d81c2b088",
   "metadata": {},
   "outputs": [
    {
     "data": {
      "text/html": [
       "<div>\n",
       "<style scoped>\n",
       "    .dataframe tbody tr th:only-of-type {\n",
       "        vertical-align: middle;\n",
       "    }\n",
       "\n",
       "    .dataframe tbody tr th {\n",
       "        vertical-align: top;\n",
       "    }\n",
       "\n",
       "    .dataframe thead th {\n",
       "        text-align: right;\n",
       "    }\n",
       "</style>\n",
       "<table border=\"1\" class=\"dataframe\">\n",
       "  <thead>\n",
       "    <tr style=\"text-align: right;\">\n",
       "      <th></th>\n",
       "      <th>MovieID</th>\n",
       "      <th>Title</th>\n",
       "      <th>Director</th>\n",
       "      <th>Genre</th>\n",
       "      <th>ReleaseYear</th>\n",
       "      <th>Budget (Crores)</th>\n",
       "      <th>BoxOffice (Crores)</th>\n",
       "      <th>Rating</th>\n",
       "      <th>Duration (minutes)</th>\n",
       "      <th>LeadActor</th>\n",
       "      <th>LeadActress</th>\n",
       "      <th>Language</th>\n",
       "      <th>ProductionCompany</th>\n",
       "    </tr>\n",
       "  </thead>\n",
       "  <tbody>\n",
       "    <tr>\n",
       "      <th>0</th>\n",
       "      <td>MOV004</td>\n",
       "      <td>Baahubali 2: The Conclusion</td>\n",
       "      <td>S. S. Rajamouli</td>\n",
       "      <td>Epic Fantasy Action</td>\n",
       "      <td>2018.5</td>\n",
       "      <td>250</td>\n",
       "      <td>1810</td>\n",
       "      <td>8.2</td>\n",
       "      <td>171.0</td>\n",
       "      <td>Prabhas</td>\n",
       "      <td>Anushka Shetty</td>\n",
       "      <td>Telugu</td>\n",
       "      <td>Arka Media Works</td>\n",
       "    </tr>\n",
       "    <tr>\n",
       "      <th>1</th>\n",
       "      <td>MOV021</td>\n",
       "      <td>Bahubali: The Beginning</td>\n",
       "      <td>S. S. Rajamouli</td>\n",
       "      <td>Epic Fantasy Action</td>\n",
       "      <td>2015.0</td>\n",
       "      <td>180</td>\n",
       "      <td>650</td>\n",
       "      <td>8.1</td>\n",
       "      <td>159.0</td>\n",
       "      <td>Prabhas</td>\n",
       "      <td>Tamannaah</td>\n",
       "      <td>Telugu</td>\n",
       "      <td>Unknown</td>\n",
       "    </tr>\n",
       "    <tr>\n",
       "      <th>2</th>\n",
       "      <td>MOV023</td>\n",
       "      <td>Sye Raa Narasimha Reddy</td>\n",
       "      <td>Surender Reddy</td>\n",
       "      <td>Historical Action</td>\n",
       "      <td>2019.0</td>\n",
       "      <td>200</td>\n",
       "      <td>265</td>\n",
       "      <td>7.1</td>\n",
       "      <td>167.0</td>\n",
       "      <td>Chiranjeevi</td>\n",
       "      <td>Nayanthara</td>\n",
       "      <td>Telugu</td>\n",
       "      <td>Konidela Production Company</td>\n",
       "    </tr>\n",
       "    <tr>\n",
       "      <th>3</th>\n",
       "      <td>MOV025</td>\n",
       "      <td>Jersey</td>\n",
       "      <td>Gowtam Tinnanuri</td>\n",
       "      <td>Sports Drama</td>\n",
       "      <td>2019.0</td>\n",
       "      <td>20</td>\n",
       "      <td>45</td>\n",
       "      <td>7.8</td>\n",
       "      <td>167.0</td>\n",
       "      <td>Nani</td>\n",
       "      <td>Shraddha Srinath</td>\n",
       "      <td>Telugu</td>\n",
       "      <td>Sithara Entertainments</td>\n",
       "    </tr>\n",
       "    <tr>\n",
       "      <th>4</th>\n",
       "      <td>MOV027</td>\n",
       "      <td>Geetha Govindam</td>\n",
       "      <td>Parasuram</td>\n",
       "      <td>Romantic Comedy</td>\n",
       "      <td>2018.0</td>\n",
       "      <td>10</td>\n",
       "      <td>130</td>\n",
       "      <td>7.8</td>\n",
       "      <td>148.0</td>\n",
       "      <td>Vijay Deverakonda</td>\n",
       "      <td>Rashmika Mandanna</td>\n",
       "      <td>Telugu</td>\n",
       "      <td>GA2 Pictures</td>\n",
       "    </tr>\n",
       "  </tbody>\n",
       "</table>\n",
       "</div>"
      ],
      "text/plain": [
       "  MovieID                        Title          Director                Genre  \\\n",
       "0  MOV004  Baahubali 2: The Conclusion   S. S. Rajamouli  Epic Fantasy Action   \n",
       "1  MOV021      Bahubali: The Beginning   S. S. Rajamouli  Epic Fantasy Action   \n",
       "2  MOV023      Sye Raa Narasimha Reddy    Surender Reddy    Historical Action   \n",
       "3  MOV025                       Jersey  Gowtam Tinnanuri         Sports Drama   \n",
       "4  MOV027              Geetha Govindam         Parasuram      Romantic Comedy   \n",
       "\n",
       "   ReleaseYear  Budget (Crores)  BoxOffice (Crores)  Rating  \\\n",
       "0       2018.5              250                1810     8.2   \n",
       "1       2015.0              180                 650     8.1   \n",
       "2       2019.0              200                 265     7.1   \n",
       "3       2019.0               20                  45     7.8   \n",
       "4       2018.0               10                 130     7.8   \n",
       "\n",
       "   Duration (minutes)          LeadActor        LeadActress Language  \\\n",
       "0               171.0            Prabhas     Anushka Shetty   Telugu   \n",
       "1               159.0            Prabhas          Tamannaah   Telugu   \n",
       "2               167.0        Chiranjeevi         Nayanthara   Telugu   \n",
       "3               167.0               Nani   Shraddha Srinath   Telugu   \n",
       "4               148.0  Vijay Deverakonda  Rashmika Mandanna   Telugu   \n",
       "\n",
       "             ProductionCompany  \n",
       "0             Arka Media Works  \n",
       "1                      Unknown  \n",
       "2  Konidela Production Company  \n",
       "3       Sithara Entertainments  \n",
       "4                 GA2 Pictures  "
      ]
     },
     "execution_count": 149,
     "metadata": {},
     "output_type": "execute_result"
    }
   ],
   "source": [
    "tollywood_df.head()"
   ]
  },
  {
   "cell_type": "code",
   "execution_count": 158,
   "id": "95a7967e-512b-4975-aa36-cf6cba092a24",
   "metadata": {},
   "outputs": [],
   "source": [
    "tollywood_df.to_csv('./Datasets/movies_data_cleaned/cleaned_tollywood_movies.csv', index=False)"
   ]
  },
  {
   "cell_type": "code",
   "execution_count": 180,
   "id": "d1edd6cc-4c79-44d7-a97d-c5f672e6cce9",
   "metadata": {},
   "outputs": [],
   "source": [
    "bollywood_df['Industry'] = 'Bollywood'\n",
    "indian_movies_df['Industry'] = 'Indian Mixed'\n",
    "tollywood_df['Industry'] = 'Tollywood'"
   ]
  },
  {
   "cell_type": "code",
   "execution_count": 181,
   "id": "5fcd9897-d53a-4730-beb6-a8a99b1ead47",
   "metadata": {},
   "outputs": [],
   "source": [
    "if 'index' in bollywood_df.columns:\n",
    "    bollywood_df.drop(columns=['index'], inplace=True)"
   ]
  },
  {
   "cell_type": "code",
   "execution_count": 182,
   "id": "581b2cd7-ace3-40bd-bcde-fe2b8d68cb68",
   "metadata": {},
   "outputs": [],
   "source": [
    "combined_df = pd.concat([bollywood_df, indian_movies_df, tollywood_df], ignore_index=True)"
   ]
  },
  {
   "cell_type": "code",
   "execution_count": 183,
   "id": "819c9fae-604d-4d4e-9db8-e5947cb2d57c",
   "metadata": {},
   "outputs": [
    {
     "name": "stdout",
     "output_type": "stream",
     "text": [
      "<class 'pandas.core.frame.DataFrame'>\n",
      "RangeIndex: 83 entries, 0 to 82\n",
      "Data columns (total 14 columns):\n",
      " #   Column              Non-Null Count  Dtype  \n",
      "---  ------              --------------  -----  \n",
      " 0   MovieID             83 non-null     object \n",
      " 1   Title               83 non-null     object \n",
      " 2   Director            83 non-null     object \n",
      " 3   Genre               83 non-null     object \n",
      " 4   ReleaseYear         83 non-null     float64\n",
      " 5   Budget (Crores)     83 non-null     float64\n",
      " 6   BoxOffice (Crores)  83 non-null     float64\n",
      " 7   Rating              83 non-null     float64\n",
      " 8   Duration (minutes)  83 non-null     float64\n",
      " 9   LeadActor           83 non-null     object \n",
      " 10  LeadActress         83 non-null     object \n",
      " 11  Language            83 non-null     object \n",
      " 12  ProductionCompany   83 non-null     object \n",
      " 13  Industry            83 non-null     object \n",
      "dtypes: float64(5), object(9)\n",
      "memory usage: 9.2+ KB\n"
     ]
    }
   ],
   "source": [
    "combined_df.info()"
   ]
  },
  {
   "cell_type": "code",
   "execution_count": 188,
   "id": "50e67485-d94b-4f41-8df0-ff20ed932bef",
   "metadata": {},
   "outputs": [
    {
     "data": {
      "text/html": [
       "<div>\n",
       "<style scoped>\n",
       "    .dataframe tbody tr th:only-of-type {\n",
       "        vertical-align: middle;\n",
       "    }\n",
       "\n",
       "    .dataframe tbody tr th {\n",
       "        vertical-align: top;\n",
       "    }\n",
       "\n",
       "    .dataframe thead th {\n",
       "        text-align: right;\n",
       "    }\n",
       "</style>\n",
       "<table border=\"1\" class=\"dataframe\">\n",
       "  <thead>\n",
       "    <tr style=\"text-align: right;\">\n",
       "      <th></th>\n",
       "      <th>MovieID</th>\n",
       "      <th>Title</th>\n",
       "      <th>Director</th>\n",
       "      <th>Genre</th>\n",
       "      <th>ReleaseYear</th>\n",
       "      <th>Budget (Crores)</th>\n",
       "      <th>BoxOffice (Crores)</th>\n",
       "      <th>Rating</th>\n",
       "      <th>Duration (minutes)</th>\n",
       "      <th>LeadActor</th>\n",
       "      <th>LeadActress</th>\n",
       "      <th>Language</th>\n",
       "      <th>ProductionCompany</th>\n",
       "      <th>Industry</th>\n",
       "    </tr>\n",
       "  </thead>\n",
       "  <tbody>\n",
       "    <tr>\n",
       "      <th>0</th>\n",
       "      <td>MOV001</td>\n",
       "      <td>Lagaan</td>\n",
       "      <td>Ashutosh Gowariker</td>\n",
       "      <td>Action Thriller</td>\n",
       "      <td>2001.0</td>\n",
       "      <td>50.0</td>\n",
       "      <td>100.0</td>\n",
       "      <td>8.1</td>\n",
       "      <td>224.0</td>\n",
       "      <td>Aamir Khan</td>\n",
       "      <td>Gracy Singh</td>\n",
       "      <td>Hindi</td>\n",
       "      <td>Aamir Khan Productions</td>\n",
       "      <td>Bollywood</td>\n",
       "    </tr>\n",
       "    <tr>\n",
       "      <th>1</th>\n",
       "      <td>MOV002</td>\n",
       "      <td>Kabhi Khushi Kabhie Gham...</td>\n",
       "      <td>Karan Johar</td>\n",
       "      <td>Family Drama</td>\n",
       "      <td>2001.0</td>\n",
       "      <td>50.0</td>\n",
       "      <td>100.0</td>\n",
       "      <td>7.9</td>\n",
       "      <td>210.0</td>\n",
       "      <td>Shah Rukh Khan</td>\n",
       "      <td>Kajol</td>\n",
       "      <td>Hindi</td>\n",
       "      <td>Dharma Productions</td>\n",
       "      <td>Bollywood</td>\n",
       "    </tr>\n",
       "    <tr>\n",
       "      <th>2</th>\n",
       "      <td>MOV003</td>\n",
       "      <td>M.S. Dhoni: The Untold Story</td>\n",
       "      <td>Neeraj Pandey</td>\n",
       "      <td>Biographical Sports Drama</td>\n",
       "      <td>2016.0</td>\n",
       "      <td>50.0</td>\n",
       "      <td>215.0</td>\n",
       "      <td>7.9</td>\n",
       "      <td>184.0</td>\n",
       "      <td>Sushant Singh Rajput</td>\n",
       "      <td>Kiara Advani</td>\n",
       "      <td>Hindi</td>\n",
       "      <td>Fox Star Studios</td>\n",
       "      <td>Bollywood</td>\n",
       "    </tr>\n",
       "    <tr>\n",
       "      <th>3</th>\n",
       "      <td>MOV004</td>\n",
       "      <td>Baahubali 2: The Conclusion</td>\n",
       "      <td>S. S. Rajamouli</td>\n",
       "      <td>Epic Fantasy Action</td>\n",
       "      <td>2017.0</td>\n",
       "      <td>250.0</td>\n",
       "      <td>1810.0</td>\n",
       "      <td>8.2</td>\n",
       "      <td>171.0</td>\n",
       "      <td>Prabhas</td>\n",
       "      <td>Anushka Shetty</td>\n",
       "      <td>Telugu</td>\n",
       "      <td>Arka Media Works</td>\n",
       "      <td>Bollywood</td>\n",
       "    </tr>\n",
       "    <tr>\n",
       "      <th>4</th>\n",
       "      <td>MOV005</td>\n",
       "      <td>Chennai Express</td>\n",
       "      <td>Rohit Shetty</td>\n",
       "      <td>Action Comedy</td>\n",
       "      <td>2013.0</td>\n",
       "      <td>50.0</td>\n",
       "      <td>423.0</td>\n",
       "      <td>6.4</td>\n",
       "      <td>141.0</td>\n",
       "      <td>Shah Rukh Khan</td>\n",
       "      <td>Deepika Padukone</td>\n",
       "      <td>Hindi</td>\n",
       "      <td>Red Chillies Entertainment</td>\n",
       "      <td>Bollywood</td>\n",
       "    </tr>\n",
       "  </tbody>\n",
       "</table>\n",
       "</div>"
      ],
      "text/plain": [
       "  MovieID                         Title            Director  \\\n",
       "0  MOV001                        Lagaan  Ashutosh Gowariker   \n",
       "1  MOV002   Kabhi Khushi Kabhie Gham...         Karan Johar   \n",
       "2  MOV003  M.S. Dhoni: The Untold Story       Neeraj Pandey   \n",
       "3  MOV004   Baahubali 2: The Conclusion     S. S. Rajamouli   \n",
       "4  MOV005               Chennai Express        Rohit Shetty   \n",
       "\n",
       "                       Genre  ReleaseYear  Budget (Crores)  \\\n",
       "0            Action Thriller       2001.0             50.0   \n",
       "1               Family Drama       2001.0             50.0   \n",
       "2  Biographical Sports Drama       2016.0             50.0   \n",
       "3        Epic Fantasy Action       2017.0            250.0   \n",
       "4              Action Comedy       2013.0             50.0   \n",
       "\n",
       "   BoxOffice (Crores)  Rating  Duration (minutes)             LeadActor  \\\n",
       "0               100.0     8.1               224.0            Aamir Khan   \n",
       "1               100.0     7.9               210.0        Shah Rukh Khan   \n",
       "2               215.0     7.9               184.0  Sushant Singh Rajput   \n",
       "3              1810.0     8.2               171.0               Prabhas   \n",
       "4               423.0     6.4               141.0        Shah Rukh Khan   \n",
       "\n",
       "        LeadActress Language           ProductionCompany   Industry  \n",
       "0       Gracy Singh    Hindi      Aamir Khan Productions  Bollywood  \n",
       "1             Kajol    Hindi          Dharma Productions  Bollywood  \n",
       "2      Kiara Advani    Hindi            Fox Star Studios  Bollywood  \n",
       "3    Anushka Shetty   Telugu            Arka Media Works  Bollywood  \n",
       "4  Deepika Padukone    Hindi  Red Chillies Entertainment  Bollywood  "
      ]
     },
     "execution_count": 188,
     "metadata": {},
     "output_type": "execute_result"
    }
   ],
   "source": [
    "combined_df.head()"
   ]
  },
  {
   "cell_type": "code",
   "execution_count": 189,
   "id": "c280716c-991a-4e3b-8938-957a76355ef9",
   "metadata": {},
   "outputs": [],
   "source": [
    "combined_df.to_csv('./Datasets/movies_data_cleaned/combined_dataset.csv', index=False)"
   ]
  }
 ],
 "metadata": {
  "kernelspec": {
   "display_name": "Python 3 (ipykernel)",
   "language": "python",
   "name": "python3"
  },
  "language_info": {
   "codemirror_mode": {
    "name": "ipython",
    "version": 3
   },
   "file_extension": ".py",
   "mimetype": "text/x-python",
   "name": "python",
   "nbconvert_exporter": "python",
   "pygments_lexer": "ipython3",
   "version": "3.12.3"
  }
 },
 "nbformat": 4,
 "nbformat_minor": 5
}
