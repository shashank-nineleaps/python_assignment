{
 "cells": [
  {
   "cell_type": "code",
   "execution_count": 171,
   "id": "9d3e7887-1930-44c0-98dd-0a332f3c684b",
   "metadata": {},
   "outputs": [
    {
     "name": "stdout",
     "output_type": "stream",
     "text": [
      "Requirement already satisfied: seaborn in /home/nineleaps/dummy/envi/lib/python3.12/site-packages (0.13.2)\n",
      "Requirement already satisfied: numpy!=1.24.0,>=1.20 in /home/nineleaps/dummy/envi/lib/python3.12/site-packages (from seaborn) (2.2.4)\n",
      "Requirement already satisfied: pandas>=1.2 in /home/nineleaps/dummy/envi/lib/python3.12/site-packages (from seaborn) (2.2.3)\n",
      "Requirement already satisfied: matplotlib!=3.6.1,>=3.4 in /home/nineleaps/dummy/envi/lib/python3.12/site-packages (from seaborn) (3.10.1)\n",
      "Requirement already satisfied: contourpy>=1.0.1 in /home/nineleaps/dummy/envi/lib/python3.12/site-packages (from matplotlib!=3.6.1,>=3.4->seaborn) (1.3.2)\n",
      "Requirement already satisfied: cycler>=0.10 in /home/nineleaps/dummy/envi/lib/python3.12/site-packages (from matplotlib!=3.6.1,>=3.4->seaborn) (0.12.1)\n",
      "Requirement already satisfied: fonttools>=4.22.0 in /home/nineleaps/dummy/envi/lib/python3.12/site-packages (from matplotlib!=3.6.1,>=3.4->seaborn) (4.57.0)\n",
      "Requirement already satisfied: kiwisolver>=1.3.1 in /home/nineleaps/dummy/envi/lib/python3.12/site-packages (from matplotlib!=3.6.1,>=3.4->seaborn) (1.4.8)\n",
      "Requirement already satisfied: packaging>=20.0 in /home/nineleaps/dummy/envi/lib/python3.12/site-packages (from matplotlib!=3.6.1,>=3.4->seaborn) (25.0)\n",
      "Requirement already satisfied: pillow>=8 in /home/nineleaps/dummy/envi/lib/python3.12/site-packages (from matplotlib!=3.6.1,>=3.4->seaborn) (11.2.1)\n",
      "Requirement already satisfied: pyparsing>=2.3.1 in /home/nineleaps/dummy/envi/lib/python3.12/site-packages (from matplotlib!=3.6.1,>=3.4->seaborn) (3.2.3)\n",
      "Requirement already satisfied: python-dateutil>=2.7 in /home/nineleaps/dummy/envi/lib/python3.12/site-packages (from matplotlib!=3.6.1,>=3.4->seaborn) (2.9.0.post0)\n",
      "Requirement already satisfied: pytz>=2020.1 in /home/nineleaps/dummy/envi/lib/python3.12/site-packages (from pandas>=1.2->seaborn) (2025.2)\n",
      "Requirement already satisfied: tzdata>=2022.7 in /home/nineleaps/dummy/envi/lib/python3.12/site-packages (from pandas>=1.2->seaborn) (2025.2)\n",
      "Requirement already satisfied: six>=1.5 in /home/nineleaps/dummy/envi/lib/python3.12/site-packages (from python-dateutil>=2.7->matplotlib!=3.6.1,>=3.4->seaborn) (1.17.0)\n"
     ]
    }
   ],
   "source": [
    "!pip install seaborn"
   ]
  },
  {
   "cell_type": "code",
   "execution_count": 172,
   "id": "01c5491f-09b4-4c35-8275-11b874d803e8",
   "metadata": {},
   "outputs": [],
   "source": [
    "import pandas as pd\n",
    "import matplotlib.pyplot as plt\n",
    "import seaborn as sns"
   ]
  },
  {
   "cell_type": "code",
   "execution_count": 173,
   "id": "5b04ba55-2b36-4f9e-9295-8568003dbebb",
   "metadata": {},
   "outputs": [],
   "source": [
    "movies_data = './Datasets/movies_data_cleaned/combined_dataset.csv'"
   ]
  },
  {
   "cell_type": "code",
   "execution_count": 174,
   "id": "7c9b1a77-ca51-422a-91f8-a63083428acd",
   "metadata": {},
   "outputs": [],
   "source": [
    "movies_df = pd.read_csv(movies_data)"
   ]
  },
  {
   "cell_type": "code",
   "execution_count": 175,
   "id": "8900e583-bf84-4b6f-9dc8-092a354821b1",
   "metadata": {},
   "outputs": [],
   "source": [
    "movies_df = movies_df.drop_duplicates(subset=['Title'], keep='first')"
   ]
  },
  {
   "cell_type": "markdown",
   "id": "dddf9287-9523-4542-82bb-00db93a2abdd",
   "metadata": {},
   "source": [
    "# Profit: BoxOffice Collections - Budget"
   ]
  },
  {
   "cell_type": "code",
   "execution_count": 176,
   "id": "3058efa1-8eea-4b34-a999-b6aa3c302c11",
   "metadata": {},
   "outputs": [],
   "source": [
    "movies_df['Profit'] = movies_df['BoxOffice (Crores)'] - movies_df['Budget (Crores)']"
   ]
  },
  {
   "cell_type": "code",
   "execution_count": 177,
   "id": "ca81eecf-27b0-4d1a-9e69-2cb52291c09f",
   "metadata": {},
   "outputs": [
    {
     "data": {
      "text/plain": [
       "0      50.0\n",
       "1      50.0\n",
       "2     165.0\n",
       "3    1560.0\n",
       "4     373.0\n",
       "Name: Profit, dtype: float64"
      ]
     },
     "execution_count": 177,
     "metadata": {},
     "output_type": "execute_result"
    }
   ],
   "source": [
    "movies_df['Profit'].head()"
   ]
  },
  {
   "cell_type": "markdown",
   "id": "12c4d368-d307-4ea1-983c-5ac1088859a0",
   "metadata": {},
   "source": [
    "# ROI: Profit / Budget"
   ]
  },
  {
   "cell_type": "code",
   "execution_count": 178,
   "id": "8636d024-51c1-4f6c-9f42-31196be9af0f",
   "metadata": {},
   "outputs": [],
   "source": [
    "movies_df['ROI'] = movies_df['Profit'] / movies_df['Budget (Crores)']"
   ]
  },
  {
   "cell_type": "code",
   "execution_count": 179,
   "id": "af9a554f-6631-445f-98b0-989da36b2037",
   "metadata": {},
   "outputs": [
    {
     "data": {
      "text/plain": [
       "0    1.00\n",
       "1    1.00\n",
       "2    3.30\n",
       "3    6.24\n",
       "4    7.46\n",
       "Name: ROI, dtype: float64"
      ]
     },
     "execution_count": 179,
     "metadata": {},
     "output_type": "execute_result"
    }
   ],
   "source": [
    "movies_df['ROI'].head()"
   ]
  },
  {
   "cell_type": "code",
   "execution_count": 180,
   "id": "d81b2db2-9bc2-405e-be95-99ca052f98d2",
   "metadata": {},
   "outputs": [
    {
     "data": {
      "text/html": [
       "<div>\n",
       "<style scoped>\n",
       "    .dataframe tbody tr th:only-of-type {\n",
       "        vertical-align: middle;\n",
       "    }\n",
       "\n",
       "    .dataframe tbody tr th {\n",
       "        vertical-align: top;\n",
       "    }\n",
       "\n",
       "    .dataframe thead th {\n",
       "        text-align: right;\n",
       "    }\n",
       "</style>\n",
       "<table border=\"1\" class=\"dataframe\">\n",
       "  <thead>\n",
       "    <tr style=\"text-align: right;\">\n",
       "      <th></th>\n",
       "      <th>MovieID</th>\n",
       "      <th>Title</th>\n",
       "      <th>Director</th>\n",
       "      <th>Genre</th>\n",
       "      <th>ReleaseYear</th>\n",
       "      <th>Budget (Crores)</th>\n",
       "      <th>BoxOffice (Crores)</th>\n",
       "      <th>Rating</th>\n",
       "      <th>Duration (minutes)</th>\n",
       "      <th>LeadActor</th>\n",
       "      <th>LeadActress</th>\n",
       "      <th>Language</th>\n",
       "      <th>ProductionCompany</th>\n",
       "      <th>Industry</th>\n",
       "      <th>Profit</th>\n",
       "      <th>ROI</th>\n",
       "    </tr>\n",
       "  </thead>\n",
       "  <tbody>\n",
       "    <tr>\n",
       "      <th>6</th>\n",
       "      <td>MOV007</td>\n",
       "      <td>Dangal</td>\n",
       "      <td>Nitesh Tiwari</td>\n",
       "      <td>Biographical Sports Drama</td>\n",
       "      <td>2016.0</td>\n",
       "      <td>70.0</td>\n",
       "      <td>2140.0</td>\n",
       "      <td>8.1</td>\n",
       "      <td>161.0</td>\n",
       "      <td>Aamir Khan</td>\n",
       "      <td>Fatima Sana Shaikh</td>\n",
       "      <td>Hindi</td>\n",
       "      <td>Aamir Khan Productions</td>\n",
       "      <td>Bollywood</td>\n",
       "      <td>2070.0</td>\n",
       "      <td>29.571429</td>\n",
       "    </tr>\n",
       "    <tr>\n",
       "      <th>44</th>\n",
       "      <td>MOV045</td>\n",
       "      <td>3 Idiots</td>\n",
       "      <td>Rajkumar Hirani</td>\n",
       "      <td>Comedy Drama</td>\n",
       "      <td>2009.0</td>\n",
       "      <td>35.0</td>\n",
       "      <td>460.0</td>\n",
       "      <td>8.4</td>\n",
       "      <td>171.0</td>\n",
       "      <td>Aamir Khan</td>\n",
       "      <td>Kareena Kapoor</td>\n",
       "      <td>Hindi</td>\n",
       "      <td>Vidhu Vinod Chopra Productions</td>\n",
       "      <td>Bollywood</td>\n",
       "      <td>425.0</td>\n",
       "      <td>12.142857</td>\n",
       "    </tr>\n",
       "    <tr>\n",
       "      <th>26</th>\n",
       "      <td>MOV027</td>\n",
       "      <td>Geetha Govindam</td>\n",
       "      <td>Parasuram</td>\n",
       "      <td>Romantic Comedy</td>\n",
       "      <td>2018.0</td>\n",
       "      <td>10.0</td>\n",
       "      <td>130.0</td>\n",
       "      <td>7.4</td>\n",
       "      <td>148.0</td>\n",
       "      <td>Vijay Deverakonda</td>\n",
       "      <td>Rashmika Mandanna</td>\n",
       "      <td>Telugu</td>\n",
       "      <td>GA2 Pictures</td>\n",
       "      <td>Bollywood</td>\n",
       "      <td>120.0</td>\n",
       "      <td>12.000000</td>\n",
       "    </tr>\n",
       "  </tbody>\n",
       "</table>\n",
       "</div>"
      ],
      "text/plain": [
       "   MovieID            Title         Director                      Genre  \\\n",
       "6   MOV007           Dangal    Nitesh Tiwari  Biographical Sports Drama   \n",
       "44  MOV045         3 Idiots  Rajkumar Hirani               Comedy Drama   \n",
       "26  MOV027  Geetha Govindam        Parasuram            Romantic Comedy   \n",
       "\n",
       "    ReleaseYear  Budget (Crores)  BoxOffice (Crores)  Rating  \\\n",
       "6        2016.0             70.0              2140.0     8.1   \n",
       "44       2009.0             35.0               460.0     8.4   \n",
       "26       2018.0             10.0               130.0     7.4   \n",
       "\n",
       "    Duration (minutes)          LeadActor         LeadActress Language  \\\n",
       "6                161.0         Aamir Khan  Fatima Sana Shaikh    Hindi   \n",
       "44               171.0         Aamir Khan      Kareena Kapoor    Hindi   \n",
       "26               148.0  Vijay Deverakonda   Rashmika Mandanna   Telugu   \n",
       "\n",
       "                 ProductionCompany   Industry  Profit        ROI  \n",
       "6           Aamir Khan Productions  Bollywood  2070.0  29.571429  \n",
       "44  Vidhu Vinod Chopra Productions  Bollywood   425.0  12.142857  \n",
       "26                    GA2 Pictures  Bollywood   120.0  12.000000  "
      ]
     },
     "execution_count": 180,
     "metadata": {},
     "output_type": "execute_result"
    }
   ],
   "source": [
    "top3_ROI_overall = movies_df.sort_values(by='ROI', ascending=False).head(3)\n",
    "top3_ROI_overall"
   ]
  },
  {
   "cell_type": "code",
   "execution_count": 181,
   "id": "c994b2d9-fa3c-4f8f-9c86-7fb59f4d589f",
   "metadata": {},
   "outputs": [
    {
     "data": {
      "text/html": [
       "<div>\n",
       "<style scoped>\n",
       "    .dataframe tbody tr th:only-of-type {\n",
       "        vertical-align: middle;\n",
       "    }\n",
       "\n",
       "    .dataframe tbody tr th {\n",
       "        vertical-align: top;\n",
       "    }\n",
       "\n",
       "    .dataframe thead th {\n",
       "        text-align: right;\n",
       "    }\n",
       "</style>\n",
       "<table border=\"1\" class=\"dataframe\">\n",
       "  <thead>\n",
       "    <tr style=\"text-align: right;\">\n",
       "      <th></th>\n",
       "      <th>MovieID</th>\n",
       "      <th>Title</th>\n",
       "      <th>Director</th>\n",
       "      <th>Genre</th>\n",
       "      <th>ReleaseYear</th>\n",
       "      <th>Budget (Crores)</th>\n",
       "      <th>BoxOffice (Crores)</th>\n",
       "      <th>Rating</th>\n",
       "      <th>Duration (minutes)</th>\n",
       "      <th>LeadActor</th>\n",
       "      <th>LeadActress</th>\n",
       "      <th>Language</th>\n",
       "      <th>ProductionCompany</th>\n",
       "      <th>Industry</th>\n",
       "      <th>Profit</th>\n",
       "      <th>ROI</th>\n",
       "    </tr>\n",
       "  </thead>\n",
       "  <tbody>\n",
       "    <tr>\n",
       "      <th>6</th>\n",
       "      <td>MOV007</td>\n",
       "      <td>Dangal</td>\n",
       "      <td>Nitesh Tiwari</td>\n",
       "      <td>Biographical Sports Drama</td>\n",
       "      <td>2016.0</td>\n",
       "      <td>70.0</td>\n",
       "      <td>2140.0</td>\n",
       "      <td>8.1</td>\n",
       "      <td>161.0</td>\n",
       "      <td>Aamir Khan</td>\n",
       "      <td>Fatima Sana Shaikh</td>\n",
       "      <td>Hindi</td>\n",
       "      <td>Aamir Khan Productions</td>\n",
       "      <td>Bollywood</td>\n",
       "      <td>2070.0</td>\n",
       "      <td>29.571429</td>\n",
       "    </tr>\n",
       "    <tr>\n",
       "      <th>44</th>\n",
       "      <td>MOV045</td>\n",
       "      <td>3 Idiots</td>\n",
       "      <td>Rajkumar Hirani</td>\n",
       "      <td>Comedy Drama</td>\n",
       "      <td>2009.0</td>\n",
       "      <td>35.0</td>\n",
       "      <td>460.0</td>\n",
       "      <td>8.4</td>\n",
       "      <td>171.0</td>\n",
       "      <td>Aamir Khan</td>\n",
       "      <td>Kareena Kapoor</td>\n",
       "      <td>Hindi</td>\n",
       "      <td>Vidhu Vinod Chopra Productions</td>\n",
       "      <td>Bollywood</td>\n",
       "      <td>425.0</td>\n",
       "      <td>12.142857</td>\n",
       "    </tr>\n",
       "    <tr>\n",
       "      <th>54</th>\n",
       "      <td>MOV055</td>\n",
       "      <td>Badhaai Ho</td>\n",
       "      <td>Amit Ravindernath Sharma</td>\n",
       "      <td>Comedy Drama</td>\n",
       "      <td>2018.0</td>\n",
       "      <td>22.0</td>\n",
       "      <td>221.0</td>\n",
       "      <td>7.9</td>\n",
       "      <td>124.0</td>\n",
       "      <td>Ayushmann Khurrana</td>\n",
       "      <td>Sanya Malhotra</td>\n",
       "      <td>Hindi</td>\n",
       "      <td>Junglee Pictures</td>\n",
       "      <td>Bollywood</td>\n",
       "      <td>199.0</td>\n",
       "      <td>9.045455</td>\n",
       "    </tr>\n",
       "  </tbody>\n",
       "</table>\n",
       "</div>"
      ],
      "text/plain": [
       "   MovieID       Title                  Director                      Genre  \\\n",
       "6   MOV007      Dangal             Nitesh Tiwari  Biographical Sports Drama   \n",
       "44  MOV045    3 Idiots           Rajkumar Hirani               Comedy Drama   \n",
       "54  MOV055  Badhaai Ho  Amit Ravindernath Sharma               Comedy Drama   \n",
       "\n",
       "    ReleaseYear  Budget (Crores)  BoxOffice (Crores)  Rating  \\\n",
       "6        2016.0             70.0              2140.0     8.1   \n",
       "44       2009.0             35.0               460.0     8.4   \n",
       "54       2018.0             22.0               221.0     7.9   \n",
       "\n",
       "    Duration (minutes)           LeadActor         LeadActress Language  \\\n",
       "6                161.0          Aamir Khan  Fatima Sana Shaikh    Hindi   \n",
       "44               171.0          Aamir Khan      Kareena Kapoor    Hindi   \n",
       "54               124.0  Ayushmann Khurrana      Sanya Malhotra    Hindi   \n",
       "\n",
       "                 ProductionCompany   Industry  Profit        ROI  \n",
       "6           Aamir Khan Productions  Bollywood  2070.0  29.571429  \n",
       "44  Vidhu Vinod Chopra Productions  Bollywood   425.0  12.142857  \n",
       "54               Junglee Pictures   Bollywood   199.0   9.045455  "
      ]
     },
     "execution_count": 181,
     "metadata": {},
     "output_type": "execute_result"
    }
   ],
   "source": [
    "top3_hindi = movies_df[movies_df['Language'].str.lower() == 'hindi'].sort_values(by='ROI', ascending=False).head(3)\n",
    "top3_hindi"
   ]
  },
  {
   "cell_type": "code",
   "execution_count": 182,
   "id": "a960445a-01c9-4e64-9328-c87fb241807e",
   "metadata": {},
   "outputs": [
    {
     "data": {
      "text/html": [
       "<div>\n",
       "<style scoped>\n",
       "    .dataframe tbody tr th:only-of-type {\n",
       "        vertical-align: middle;\n",
       "    }\n",
       "\n",
       "    .dataframe tbody tr th {\n",
       "        vertical-align: top;\n",
       "    }\n",
       "\n",
       "    .dataframe thead th {\n",
       "        text-align: right;\n",
       "    }\n",
       "</style>\n",
       "<table border=\"1\" class=\"dataframe\">\n",
       "  <thead>\n",
       "    <tr style=\"text-align: right;\">\n",
       "      <th></th>\n",
       "      <th>MovieID</th>\n",
       "      <th>Title</th>\n",
       "      <th>Director</th>\n",
       "      <th>Genre</th>\n",
       "      <th>ReleaseYear</th>\n",
       "      <th>Budget (Crores)</th>\n",
       "      <th>BoxOffice (Crores)</th>\n",
       "      <th>Rating</th>\n",
       "      <th>Duration (minutes)</th>\n",
       "      <th>LeadActor</th>\n",
       "      <th>LeadActress</th>\n",
       "      <th>Language</th>\n",
       "      <th>ProductionCompany</th>\n",
       "      <th>Industry</th>\n",
       "      <th>Profit</th>\n",
       "      <th>ROI</th>\n",
       "    </tr>\n",
       "  </thead>\n",
       "  <tbody>\n",
       "    <tr>\n",
       "      <th>26</th>\n",
       "      <td>MOV027</td>\n",
       "      <td>Geetha Govindam</td>\n",
       "      <td>Parasuram</td>\n",
       "      <td>Romantic Comedy</td>\n",
       "      <td>2018.0</td>\n",
       "      <td>10.0</td>\n",
       "      <td>130.0</td>\n",
       "      <td>7.4</td>\n",
       "      <td>148.0</td>\n",
       "      <td>Vijay Deverakonda</td>\n",
       "      <td>Rashmika Mandanna</td>\n",
       "      <td>Telugu</td>\n",
       "      <td>GA2 Pictures</td>\n",
       "      <td>Bollywood</td>\n",
       "      <td>120.0</td>\n",
       "      <td>12.000000</td>\n",
       "    </tr>\n",
       "    <tr>\n",
       "      <th>3</th>\n",
       "      <td>MOV004</td>\n",
       "      <td>Baahubali 2: The Conclusion</td>\n",
       "      <td>S. S. Rajamouli</td>\n",
       "      <td>Epic Fantasy Action</td>\n",
       "      <td>2017.0</td>\n",
       "      <td>250.0</td>\n",
       "      <td>1810.0</td>\n",
       "      <td>8.2</td>\n",
       "      <td>171.0</td>\n",
       "      <td>Prabhas</td>\n",
       "      <td>Anushka Shetty</td>\n",
       "      <td>Telugu</td>\n",
       "      <td>Arka Media Works</td>\n",
       "      <td>Bollywood</td>\n",
       "      <td>1560.0</td>\n",
       "      <td>6.240000</td>\n",
       "    </tr>\n",
       "    <tr>\n",
       "      <th>20</th>\n",
       "      <td>MOV021</td>\n",
       "      <td>Bahubali: The Beginning</td>\n",
       "      <td>S. S. Rajamouli</td>\n",
       "      <td>Epic Fantasy Action</td>\n",
       "      <td>2015.0</td>\n",
       "      <td>180.0</td>\n",
       "      <td>650.0</td>\n",
       "      <td>8.1</td>\n",
       "      <td>159.0</td>\n",
       "      <td>Prabhas</td>\n",
       "      <td>Tamannaah</td>\n",
       "      <td>Telugu</td>\n",
       "      <td>Arka Media Works</td>\n",
       "      <td>Bollywood</td>\n",
       "      <td>470.0</td>\n",
       "      <td>2.611111</td>\n",
       "    </tr>\n",
       "  </tbody>\n",
       "</table>\n",
       "</div>"
      ],
      "text/plain": [
       "   MovieID                        Title         Director                Genre  \\\n",
       "26  MOV027              Geetha Govindam        Parasuram      Romantic Comedy   \n",
       "3   MOV004  Baahubali 2: The Conclusion  S. S. Rajamouli  Epic Fantasy Action   \n",
       "20  MOV021      Bahubali: The Beginning  S. S. Rajamouli  Epic Fantasy Action   \n",
       "\n",
       "    ReleaseYear  Budget (Crores)  BoxOffice (Crores)  Rating  \\\n",
       "26       2018.0             10.0               130.0     7.4   \n",
       "3        2017.0            250.0              1810.0     8.2   \n",
       "20       2015.0            180.0               650.0     8.1   \n",
       "\n",
       "    Duration (minutes)          LeadActor        LeadActress Language  \\\n",
       "26               148.0  Vijay Deverakonda  Rashmika Mandanna   Telugu   \n",
       "3                171.0            Prabhas     Anushka Shetty   Telugu   \n",
       "20               159.0            Prabhas          Tamannaah   Telugu   \n",
       "\n",
       "   ProductionCompany   Industry  Profit        ROI  \n",
       "26      GA2 Pictures  Bollywood   120.0  12.000000  \n",
       "3   Arka Media Works  Bollywood  1560.0   6.240000  \n",
       "20  Arka Media Works  Bollywood   470.0   2.611111  "
      ]
     },
     "execution_count": 182,
     "metadata": {},
     "output_type": "execute_result"
    }
   ],
   "source": [
    "top3_telugu = movies_df[movies_df['Language'].str.lower() == 'telugu'].sort_values(by='ROI', ascending=False).head(3)\n",
    "top3_telugu"
   ]
  },
  {
   "cell_type": "code",
   "execution_count": 183,
   "id": "239a9b65-fc85-45a2-bf1b-6690710df27a",
   "metadata": {},
   "outputs": [
    {
     "name": "stdout",
     "output_type": "stream",
     "text": [
      "<class 'pandas.core.frame.DataFrame'>\n",
      "Index: 51 entries, 0 to 54\n",
      "Data columns (total 16 columns):\n",
      " #   Column              Non-Null Count  Dtype  \n",
      "---  ------              --------------  -----  \n",
      " 0   MovieID             51 non-null     object \n",
      " 1   Title               51 non-null     object \n",
      " 2   Director            51 non-null     object \n",
      " 3   Genre               51 non-null     object \n",
      " 4   ReleaseYear         51 non-null     float64\n",
      " 5   Budget (Crores)     51 non-null     float64\n",
      " 6   BoxOffice (Crores)  51 non-null     float64\n",
      " 7   Rating              51 non-null     float64\n",
      " 8   Duration (minutes)  51 non-null     float64\n",
      " 9   LeadActor           51 non-null     object \n",
      " 10  LeadActress         51 non-null     object \n",
      " 11  Language            51 non-null     object \n",
      " 12  ProductionCompany   51 non-null     object \n",
      " 13  Industry            51 non-null     object \n",
      " 14  Profit              51 non-null     float64\n",
      " 15  ROI                 51 non-null     float64\n",
      "dtypes: float64(7), object(9)\n",
      "memory usage: 6.8+ KB\n"
     ]
    }
   ],
   "source": [
    "movies_df.info()"
   ]
  },
  {
   "cell_type": "code",
   "execution_count": 217,
   "id": "2430485e-a0fc-443c-a9f4-d08263f0c843",
   "metadata": {},
   "outputs": [
    {
     "data": {
      "text/html": [
       "<div>\n",
       "<style scoped>\n",
       "    .dataframe tbody tr th:only-of-type {\n",
       "        vertical-align: middle;\n",
       "    }\n",
       "\n",
       "    .dataframe tbody tr th {\n",
       "        vertical-align: top;\n",
       "    }\n",
       "\n",
       "    .dataframe thead th {\n",
       "        text-align: right;\n",
       "    }\n",
       "</style>\n",
       "<table border=\"1\" class=\"dataframe\">\n",
       "  <thead>\n",
       "    <tr style=\"text-align: right;\">\n",
       "      <th></th>\n",
       "      <th>MovieID</th>\n",
       "      <th>Title</th>\n",
       "      <th>Director</th>\n",
       "      <th>Genre</th>\n",
       "      <th>ReleaseYear</th>\n",
       "      <th>Budget (Crores)</th>\n",
       "      <th>BoxOffice (Crores)</th>\n",
       "      <th>Rating</th>\n",
       "      <th>Duration (minutes)</th>\n",
       "      <th>LeadActor</th>\n",
       "      <th>LeadActress</th>\n",
       "      <th>Language</th>\n",
       "      <th>ProductionCompany</th>\n",
       "      <th>Industry</th>\n",
       "      <th>Profit</th>\n",
       "      <th>ROI</th>\n",
       "    </tr>\n",
       "  </thead>\n",
       "  <tbody>\n",
       "    <tr>\n",
       "      <th>0</th>\n",
       "      <td>MOV001</td>\n",
       "      <td>Lagaan</td>\n",
       "      <td>Ashutosh Gowariker</td>\n",
       "      <td>Action Thriller</td>\n",
       "      <td>2001.0</td>\n",
       "      <td>50.0</td>\n",
       "      <td>100.0</td>\n",
       "      <td>8.1</td>\n",
       "      <td>224.0</td>\n",
       "      <td>Aamir Khan</td>\n",
       "      <td>Gracy Singh</td>\n",
       "      <td>Hindi</td>\n",
       "      <td>Aamir Khan Productions</td>\n",
       "      <td>Bollywood</td>\n",
       "      <td>50.0</td>\n",
       "      <td>1.00</td>\n",
       "    </tr>\n",
       "    <tr>\n",
       "      <th>1</th>\n",
       "      <td>MOV002</td>\n",
       "      <td>Kabhi Khushi Kabhie Gham...</td>\n",
       "      <td>Karan Johar</td>\n",
       "      <td>Family Drama</td>\n",
       "      <td>2001.0</td>\n",
       "      <td>50.0</td>\n",
       "      <td>100.0</td>\n",
       "      <td>7.9</td>\n",
       "      <td>210.0</td>\n",
       "      <td>Shah Rukh Khan</td>\n",
       "      <td>Kajol</td>\n",
       "      <td>Hindi</td>\n",
       "      <td>Dharma Productions</td>\n",
       "      <td>Bollywood</td>\n",
       "      <td>50.0</td>\n",
       "      <td>1.00</td>\n",
       "    </tr>\n",
       "    <tr>\n",
       "      <th>2</th>\n",
       "      <td>MOV003</td>\n",
       "      <td>M.S. Dhoni: The Untold Story</td>\n",
       "      <td>Neeraj Pandey</td>\n",
       "      <td>Biographical Sports Drama</td>\n",
       "      <td>2016.0</td>\n",
       "      <td>50.0</td>\n",
       "      <td>215.0</td>\n",
       "      <td>7.9</td>\n",
       "      <td>184.0</td>\n",
       "      <td>Sushant Singh Rajput</td>\n",
       "      <td>Kiara Advani</td>\n",
       "      <td>Hindi</td>\n",
       "      <td>Fox Star Studios</td>\n",
       "      <td>Bollywood</td>\n",
       "      <td>165.0</td>\n",
       "      <td>3.30</td>\n",
       "    </tr>\n",
       "    <tr>\n",
       "      <th>3</th>\n",
       "      <td>MOV004</td>\n",
       "      <td>Baahubali 2: The Conclusion</td>\n",
       "      <td>S. S. Rajamouli</td>\n",
       "      <td>Epic Fantasy Action</td>\n",
       "      <td>2017.0</td>\n",
       "      <td>250.0</td>\n",
       "      <td>1810.0</td>\n",
       "      <td>8.2</td>\n",
       "      <td>171.0</td>\n",
       "      <td>Prabhas</td>\n",
       "      <td>Anushka Shetty</td>\n",
       "      <td>Telugu</td>\n",
       "      <td>Arka Media Works</td>\n",
       "      <td>Bollywood</td>\n",
       "      <td>1560.0</td>\n",
       "      <td>6.24</td>\n",
       "    </tr>\n",
       "    <tr>\n",
       "      <th>4</th>\n",
       "      <td>MOV005</td>\n",
       "      <td>Chennai Express</td>\n",
       "      <td>Rohit Shetty</td>\n",
       "      <td>Action Comedy</td>\n",
       "      <td>2013.0</td>\n",
       "      <td>50.0</td>\n",
       "      <td>423.0</td>\n",
       "      <td>6.4</td>\n",
       "      <td>141.0</td>\n",
       "      <td>Shah Rukh Khan</td>\n",
       "      <td>Deepika Padukone</td>\n",
       "      <td>Hindi</td>\n",
       "      <td>Red Chillies Entertainment</td>\n",
       "      <td>Bollywood</td>\n",
       "      <td>373.0</td>\n",
       "      <td>7.46</td>\n",
       "    </tr>\n",
       "  </tbody>\n",
       "</table>\n",
       "</div>"
      ],
      "text/plain": [
       "  MovieID                         Title            Director  \\\n",
       "0  MOV001                        Lagaan  Ashutosh Gowariker   \n",
       "1  MOV002   Kabhi Khushi Kabhie Gham...         Karan Johar   \n",
       "2  MOV003  M.S. Dhoni: The Untold Story       Neeraj Pandey   \n",
       "3  MOV004   Baahubali 2: The Conclusion     S. S. Rajamouli   \n",
       "4  MOV005               Chennai Express        Rohit Shetty   \n",
       "\n",
       "                       Genre  ReleaseYear  Budget (Crores)  \\\n",
       "0            Action Thriller       2001.0             50.0   \n",
       "1               Family Drama       2001.0             50.0   \n",
       "2  Biographical Sports Drama       2016.0             50.0   \n",
       "3        Epic Fantasy Action       2017.0            250.0   \n",
       "4              Action Comedy       2013.0             50.0   \n",
       "\n",
       "   BoxOffice (Crores)  Rating  Duration (minutes)             LeadActor  \\\n",
       "0               100.0     8.1               224.0            Aamir Khan   \n",
       "1               100.0     7.9               210.0        Shah Rukh Khan   \n",
       "2               215.0     7.9               184.0  Sushant Singh Rajput   \n",
       "3              1810.0     8.2               171.0               Prabhas   \n",
       "4               423.0     6.4               141.0        Shah Rukh Khan   \n",
       "\n",
       "        LeadActress Language           ProductionCompany   Industry  Profit  \\\n",
       "0       Gracy Singh    Hindi      Aamir Khan Productions  Bollywood    50.0   \n",
       "1             Kajol    Hindi          Dharma Productions  Bollywood    50.0   \n",
       "2      Kiara Advani    Hindi            Fox Star Studios  Bollywood   165.0   \n",
       "3    Anushka Shetty   Telugu            Arka Media Works  Bollywood  1560.0   \n",
       "4  Deepika Padukone    Hindi  Red Chillies Entertainment  Bollywood   373.0   \n",
       "\n",
       "    ROI  \n",
       "0  1.00  \n",
       "1  1.00  \n",
       "2  3.30  \n",
       "3  6.24  \n",
       "4  7.46  "
      ]
     },
     "execution_count": 217,
     "metadata": {},
     "output_type": "execute_result"
    }
   ],
   "source": [
    "movies_df.head()"
   ]
  },
  {
   "cell_type": "code",
   "execution_count": 185,
   "id": "e2345a79-f8a5-4ca7-9e05-8c54ea1cb9c3",
   "metadata": {},
   "outputs": [
    {
     "data": {
      "text/plain": [
       "<Figure size 1600x1200 with 0 Axes>"
      ]
     },
     "execution_count": 185,
     "metadata": {},
     "output_type": "execute_result"
    },
    {
     "data": {
      "text/plain": [
       "<Figure size 1600x1200 with 0 Axes>"
      ]
     },
     "metadata": {},
     "output_type": "display_data"
    }
   ],
   "source": [
    "sns.set(style=\"whitegrid\")\n",
    "plt.figure(figsize=(16, 12))"
   ]
  },
  {
   "cell_type": "code",
   "execution_count": 210,
   "id": "e74a4e24-9bfe-46b8-90ab-dd84c82984a9",
   "metadata": {},
   "outputs": [
    {
     "data": {
      "text/plain": [
       "Text(0.5, 0, 'Movie Title')"
      ]
     },
     "execution_count": 210,
     "metadata": {},
     "output_type": "execute_result"
    },
    {
     "data": {
      "image/png": "[encoded data removed]",
      "text/plain": [
       "<Figure size 640x480 with 1 Axes>"
      ]
     },
     "metadata": {},
     "output_type": "display_data"
    }
   ],
   "source": [
    "plt.subplot(3, 1, 1)\n",
    "sns.barplot(data=top3_ROI_overall, x='Title', y='ROI', hue='Industry', palette='viridis', legend = False)\n",
    "plt.title('Top 3 Movies by ROI (All Industries)')\n",
    "plt.ylabel('ROI')\n",
    "plt.xlabel('Movie Title')"
   ]
  },
  {
   "cell_type": "code",
   "execution_count": 209,
   "id": "a1ef1e45-01a2-47a0-88b4-bdb42b9118dc",
   "metadata": {},
   "outputs": [
    {
     "data": {
      "text/plain": [
       "Text(0.5, 0, 'Movie Title')"
      ]
     },
     "execution_count": 209,
     "metadata": {},
     "output_type": "execute_result"
    },
    {
     "data": {
      "image/png": "[encoded data removed]",
      "text/plain": [
       "<Figure size 640x480 with 1 Axes>"
      ]
     },
     "metadata": {},
     "output_type": "display_data"
    }
   ],
   "source": [
    "plt.subplot(3, 1, 1)\n",
    "sns.barplot(data=top3_hindi, x='Title', y='ROI', hue='Industry', palette='mako', legend=False)\n",
    "plt.title('Top 3 Movies by ROI (All Industries)')\n",
    "plt.ylabel('ROI')\n",
    "plt.xlabel('Movie Title')"
   ]
  },
  {
   "cell_type": "code",
   "execution_count": 216,
   "id": "90b3585b-252d-4ea6-913b-fe661eac31c5",
   "metadata": {},
   "outputs": [
    {
     "data": {
      "text/plain": [
       "Text(0.5, 0, 'Movie Title')"
      ]
     },
     "execution_count": 216,
     "metadata": {},
     "output_type": "execute_result"
    },
    {
     "data": {
      "image/png": "[encoded data removed]",
      "text/plain": [
       "<Figure size 1700x1200 with 1 Axes>"
      ]
     },
     "metadata": {},
     "output_type": "display_data"
    }
   ],
   "source": [
    "sns.set(style=\"whitegrid\")\n",
    "plt.figure(figsize=(17, 12))\n",
    "\n",
    "plt.subplot(3, 1, 1)\n",
    "sns.barplot(data=top3_telugu, x='Title', y='ROI', hue='Industry', palette='viridis', legend=False)\n",
    "plt.title('Top 3 Movies by ROI (Telugu Industries)')\n",
    "plt.ylabel('ROI')\n",
    "plt.xlabel('Movie Title')"
   ]
  }
 ],
 "metadata": {
  "kernelspec": {
   "display_name": "Python 3 (ipykernel)",
   "language": "python",
   "name": "python3"
  },
  "language_info": {
   "codemirror_mode": {
    "name": "ipython",
    "version": 3
   },
   "file_extension": ".py",
   "mimetype": "text/x-python",
   "name": "python",
   "nbconvert_exporter": "python",
   "pygments_lexer": "ipython3",
   "version": "3.12.3"
  }
 },
 "nbformat": 4,
 "nbformat_minor": 5
}
