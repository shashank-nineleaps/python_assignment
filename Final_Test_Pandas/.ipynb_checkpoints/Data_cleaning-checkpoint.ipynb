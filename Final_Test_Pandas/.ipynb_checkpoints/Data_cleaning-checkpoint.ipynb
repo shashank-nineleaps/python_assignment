{
 "cells": [
  {
   "cell_type": "code",
   "execution_count": 2,
   "id": "19eb21ae-db05-4c6b-8958-cbbebe0754ec",
   "metadata": {},
   "outputs": [],
   "source": [
    "import pandas as pd\n",
    "import sqlite3\n",
    "import numpy as np"
   ]
  },
  {
   "cell_type": "code",
   "execution_count": 4,
   "id": "a551056f-b22e-4759-bd31-0d1321f8c880",
   "metadata": {},
   "outputs": [],
   "source": [
    "bollwood_movies = './Datasets/bollywood_movies.sqlite'\n",
    "Tollywoo_movies = './Datasets/Tollywood_movies.xlsx'\n",
    "Indian_movies = './Datasets/Indian_movies.csv'"
   ]
  },
  {
   "cell_type": "code",
   "execution_count": 8,
   "id": "56ebc83c-dced-4852-934e-2bbf92b4c977",
   "metadata": {},
   "outputs": [],
   "source": [
    "conn = sqlite3.connect('bollywood_movies')"
   ]
  },
  {
   "cell_type": "code",
   "execution_count": 10,
   "id": "f0577830-da5a-4a85-aa69-93291382e0e7",
   "metadata": {},
   "outputs": [
    {
     "name": "stdout",
     "output_type": "stream",
     "text": [
      "Empty DataFrame\n",
      "Columns: [type, name, tbl_name, rootpage, sql]\n",
      "Index: []\n"
     ]
    }
   ],
   "source": [
    "tables = pd.read_sql_query(\"SELECT * FROM sqlite_master WHERE type='table';\", conn)\n",
    "print(tables)"
   ]
  }
 ],
 "metadata": {
  "kernelspec": {
   "display_name": "Python 3 (ipykernel)",
   "language": "python",
   "name": "python3"
  },
  "language_info": {
   "codemirror_mode": {
    "name": "ipython",
    "version": 3
   },
   "file_extension": ".py",
   "mimetype": "text/x-python",
   "name": "python",
   "nbconvert_exporter": "python",
   "pygments_lexer": "ipython3",
   "version": "3.12.3"
  }
 },
 "nbformat": 4,
 "nbformat_minor": 5
}
